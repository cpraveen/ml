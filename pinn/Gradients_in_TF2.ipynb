{
  "cells": [
    {
      "cell_type": "markdown",
      "metadata": {},
      "source": [
        "# Tensors and gradients"
      ]
    },
    {
      "cell_type": "code",
      "execution_count": 9,
      "metadata": {
        "id": "hMeZ2inBVTdF"
      },
      "outputs": [],
      "source": [
        "import numpy as np\n",
        "import tensorflow as tf\n",
        "from tensorflow import keras\n",
        "import matplotlib.pyplot as plt"
      ]
    },
    {
      "cell_type": "markdown",
      "metadata": {
        "id": "8O8igM3SydJD"
      },
      "source": [
        "## Tensors (https://www.tensorflow.org/guide/tensor)\n",
        "\n",
        "Tensors are multi-dimensional arrays with a uniform type, similar to numpy arrays"
      ]
    },
    {
      "cell_type": "code",
      "execution_count": 10,
      "metadata": {
        "colab": {
          "base_uri": "https://localhost:8080/"
        },
        "id": "1vBO7fdAygTL",
        "outputId": "ed0f1e07-6912-4df8-b685-63a30682f9c5"
      },
      "outputs": [
        {
          "name": "stdout",
          "output_type": "stream",
          "text": [
            "\n",
            "tensor1:  tf.Tensor(4, shape=(), dtype=int32)\n",
            "\n",
            "tensor2:  tf.Tensor([1. 2. 3.], shape=(3,), dtype=float32)\n",
            "\n",
            "tensor3:  tf.Tensor(\n",
            "[[1.  2.  3. ]\n",
            " [3.4 1.  1. ]], shape=(2, 3), dtype=float32)\n",
            "\n",
            "tensor4:  tf.Tensor(\n",
            "[0.         0.11111111 0.22222222 0.33333333 0.44444444 0.55555556\n",
            " 0.66666667 0.77777778 0.88888889 1.        ], shape=(10,), dtype=float64)\n"
          ]
        }
      ],
      "source": [
        "tensor1 = tf.constant(4)\n",
        "print('\\ntensor1: ',tensor1)\n",
        "\n",
        "tensor2 = tf.constant([1.0,2.0,3.0])\n",
        "print('\\ntensor2: ',tensor2)\n",
        "\n",
        "tensor3 = tf.constant([[1.0,2.0,3.0],[3.4,1.0,1.0]])\n",
        "print('\\ntensor3: ',tensor3)\n",
        "\n",
        "tensor4 = tf.linspace(0,1,10)\n",
        "print('\\ntensor4: ',tensor4)"
      ]
    },
    {
      "cell_type": "markdown",
      "metadata": {
        "id": "v8V8W9Uf0KKR"
      },
      "source": [
        "Tensors can be converted to numpy arrays"
      ]
    },
    {
      "cell_type": "code",
      "execution_count": 11,
      "metadata": {
        "colab": {
          "base_uri": "https://localhost:8080/"
        },
        "id": "fl5ut3D00Qy-",
        "outputId": "53ed13b6-34f0-4b15-c1e4-50fcde631f4b"
      },
      "outputs": [
        {
          "name": "stdout",
          "output_type": "stream",
          "text": [
            "\n",
            "tensor4 converted numpy array:  [0.         0.11111111 0.22222222 0.33333333 0.44444444 0.55555556\n",
            " 0.66666667 0.77777778 0.88888889 1.        ]\n",
            "\n",
            "type:  <class 'numpy.ndarray'>\n"
          ]
        }
      ],
      "source": [
        "tensor4_np = tensor4.numpy()\n",
        "print('\\ntensor4 converted numpy array: ',tensor4_np)\n",
        "print('\\ntype: ',type(tensor4_np))"
      ]
    },
    {
      "cell_type": "markdown",
      "metadata": {
        "id": "6RVCxdcx0AaP"
      },
      "source": [
        " All tensors are immutable like Python numbers and strings: you can never update the contents of a tensor, only create a new one."
      ]
    },
    {
      "cell_type": "code",
      "execution_count": 12,
      "metadata": {
        "colab": {
          "base_uri": "https://localhost:8080/",
          "height": 201
        },
        "id": "fA8stmW10za6",
        "outputId": "d4330068-03b2-4a67-8034-d2eae445623c"
      },
      "outputs": [
        {
          "name": "stdout",
          "output_type": "stream",
          "text": [
            "6th element of tensor4:  0.5555555555555556\n"
          ]
        },
        {
          "ename": "TypeError",
          "evalue": "'tensorflow.python.framework.ops.EagerTensor' object does not support item assignment",
          "output_type": "error",
          "traceback": [
            "\u001b[0;31m---------------------------------------------------------------------------\u001b[0m",
            "\u001b[0;31mTypeError\u001b[0m                                 Traceback (most recent call last)",
            "Cell \u001b[0;32mIn [12], line 2\u001b[0m\n\u001b[1;32m      1\u001b[0m \u001b[39mprint\u001b[39m(\u001b[39m'\u001b[39m\u001b[39m6th element of tensor4: \u001b[39m\u001b[39m'\u001b[39m,tensor4[\u001b[39m5\u001b[39m]\u001b[39m.\u001b[39mnumpy())\n\u001b[0;32m----> 2\u001b[0m tensor4[\u001b[39m5\u001b[39;49m] \u001b[39m=\u001b[39m \u001b[39m100.0\u001b[39m\n",
            "\u001b[0;31mTypeError\u001b[0m: 'tensorflow.python.framework.ops.EagerTensor' object does not support item assignment"
          ]
        }
      ],
      "source": [
        "print('6th element of tensor4: ',tensor4[5].numpy())\n",
        "tensor4[5] = 100.0"
      ]
    },
    {
      "cell_type": "markdown",
      "metadata": {
        "id": "cZ5MAgDn1kMQ"
      },
      "source": [
        "## Variables (https://www.tensorflow.org/guide/variable)\n",
        "\n",
        "A variable is a tensor whose value can be changed by running operations on it"
      ]
    },
    {
      "cell_type": "code",
      "execution_count": 13,
      "metadata": {
        "colab": {
          "base_uri": "https://localhost:8080/"
        },
        "id": "CRh-la_X131p",
        "outputId": "57fdee38-987f-4ebf-a427-8a0f6b30aba3"
      },
      "outputs": [
        {
          "name": "stdout",
          "output_type": "stream",
          "text": [
            "\n",
            "var1:  <tf.Variable 'Variable:0' shape=() dtype=int32, numpy=4>\n",
            "\n",
            "var2:  <tf.Variable 'Variable:0' shape=(3,) dtype=float32, numpy=array([1., 2., 3.], dtype=float32)>\n",
            "\n",
            "var3:  <tf.Variable 'Variable:0' shape=(10,) dtype=float64, numpy=\n",
            "array([0.        , 0.11111111, 0.22222222, 0.33333333, 0.44444444,\n",
            "       0.55555556, 0.66666667, 0.77777778, 0.88888889, 1.        ])>\n"
          ]
        }
      ],
      "source": [
        "var1 = tf.Variable(4)\n",
        "print('\\nvar1: ',var1)\n",
        "\n",
        "var2 = tf.Variable(tensor2)\n",
        "print('\\nvar2: ',var2)\n",
        "\n",
        "var3 = tf.Variable(tf.linspace(0,1,10))\n",
        "print('\\nvar3: ',var3)"
      ]
    },
    {
      "cell_type": "markdown",
      "metadata": {
        "id": "KV6ZxudhAOZe"
      },
      "source": [
        "After construction, the type and shape of the variable are fixed. The value can be changed using one of the assign methods."
      ]
    },
    {
      "cell_type": "code",
      "execution_count": 14,
      "metadata": {
        "colab": {
          "base_uri": "https://localhost:8080/",
          "height": 496
        },
        "id": "2efeQVVBANxl",
        "outputId": "0965655a-8cb5-436c-bfe1-e8d973c13f20"
      },
      "outputs": [
        {
          "name": "stdout",
          "output_type": "stream",
          "text": [
            "\n",
            "var4:  [1. 2.]\n",
            "\n",
            "modified var4:  [3. 4.]\n",
            "\n",
            "modified var4:  [4. 6.]\n",
            "\n",
            "modified var4:  [3. 4.]\n",
            "\n",
            "recall that the shape is fixed\n"
          ]
        },
        {
          "ename": "ValueError",
          "evalue": "Cannot assign value to variable ' Variable:0': Shape mismatch.The variable shape (2,), and the assigned value shape (3,) are incompatible.",
          "output_type": "error",
          "traceback": [
            "\u001b[0;31m---------------------------------------------------------------------------\u001b[0m",
            "\u001b[0;31mValueError\u001b[0m                                Traceback (most recent call last)",
            "Cell \u001b[0;32mIn [14], line 14\u001b[0m\n\u001b[1;32m     11\u001b[0m \u001b[39mprint\u001b[39m(\u001b[39m'\u001b[39m\u001b[39m\\n\u001b[39;00m\u001b[39mmodified var4: \u001b[39m\u001b[39m'\u001b[39m,var4\u001b[39m.\u001b[39mnumpy())\n\u001b[1;32m     13\u001b[0m \u001b[39mprint\u001b[39m(\u001b[39m'\u001b[39m\u001b[39m\\n\u001b[39;00m\u001b[39mrecall that the shape is fixed\u001b[39m\u001b[39m'\u001b[39m)\n\u001b[0;32m---> 14\u001b[0m var4\u001b[39m.\u001b[39;49massign([\u001b[39m3.0\u001b[39;49m,\u001b[39m4.0\u001b[39;49m,\u001b[39m4.0\u001b[39;49m])\n",
            "File \u001b[0;32m/opt/homebrew/Caskroom/miniforge/base/lib/python3.10/site-packages/tensorflow/python/ops/resource_variable_ops.py:931\u001b[0m, in \u001b[0;36mBaseResourceVariable.assign\u001b[0;34m(self, value, use_locking, name, read_value)\u001b[0m\n\u001b[1;32m    929\u001b[0m   \u001b[39melse\u001b[39;00m:\n\u001b[1;32m    930\u001b[0m     tensor_name \u001b[39m=\u001b[39m \u001b[39m\"\u001b[39m\u001b[39m \u001b[39m\u001b[39m\"\u001b[39m \u001b[39m+\u001b[39m \u001b[39mstr\u001b[39m(\u001b[39mself\u001b[39m\u001b[39m.\u001b[39mname)\n\u001b[0;32m--> 931\u001b[0m   \u001b[39mraise\u001b[39;00m \u001b[39mValueError\u001b[39;00m(\n\u001b[1;32m    932\u001b[0m       (\u001b[39mf\u001b[39m\u001b[39m\"\u001b[39m\u001b[39mCannot assign value to variable \u001b[39m\u001b[39m'\u001b[39m\u001b[39m{\u001b[39;00mtensor_name\u001b[39m}\u001b[39;00m\u001b[39m'\u001b[39m\u001b[39m: Shape mismatch.\u001b[39m\u001b[39m\"\u001b[39m\n\u001b[1;32m    933\u001b[0m        \u001b[39mf\u001b[39m\u001b[39m\"\u001b[39m\u001b[39mThe variable shape \u001b[39m\u001b[39m{\u001b[39;00m\u001b[39mself\u001b[39m\u001b[39m.\u001b[39m_shape\u001b[39m}\u001b[39;00m\u001b[39m, and the \u001b[39m\u001b[39m\"\u001b[39m\n\u001b[1;32m    934\u001b[0m        \u001b[39mf\u001b[39m\u001b[39m\"\u001b[39m\u001b[39massigned value shape \u001b[39m\u001b[39m{\u001b[39;00mvalue_tensor\u001b[39m.\u001b[39mshape\u001b[39m}\u001b[39;00m\u001b[39m are incompatible.\u001b[39m\u001b[39m\"\u001b[39m))\n\u001b[1;32m    935\u001b[0m kwargs \u001b[39m=\u001b[39m {}\n\u001b[1;32m    936\u001b[0m \u001b[39mif\u001b[39;00m forward_compat\u001b[39m.\u001b[39mforward_compatible(\u001b[39m2022\u001b[39m, \u001b[39m3\u001b[39m, \u001b[39m23\u001b[39m):\n\u001b[1;32m    937\u001b[0m   \u001b[39m# If the shape is fully defined, we do a runtime check with the shape of\u001b[39;00m\n\u001b[1;32m    938\u001b[0m   \u001b[39m# value.\u001b[39;00m\n",
            "\u001b[0;31mValueError\u001b[0m: Cannot assign value to variable ' Variable:0': Shape mismatch.The variable shape (2,), and the assigned value shape (3,) are incompatible."
          ]
        }
      ],
      "source": [
        "var4 = tf.Variable([1.0,2.0])\n",
        "print('\\nvar4: ', var4.numpy())\n",
        "\n",
        "var4.assign([3.0,4.0])\n",
        "print('\\nmodified var4: ',var4.numpy())\n",
        "\n",
        "var4.assign_add([1.0,2.0])\n",
        "print('\\nmodified var4: ',var4.numpy())\n",
        "\n",
        "var4.assign_sub([1.0,2.0])\n",
        "print('\\nmodified var4: ',var4.numpy())\n",
        "\n",
        "print('\\nrecall that the shape is fixed')\n",
        "var4.assign([3.0,4.0,4.0])"
      ]
    },
    {
      "cell_type": "markdown",
      "metadata": {
        "id": "N_YfrXkoVTdG"
      },
      "source": [
        "## Gradients in Tensorflow:\n",
        "\n",
        "To differentiate automatically, TensorFlow needs to remember what operations happen in what order during the forward pass. Then, during the backward pass, TensorFlow traverses this list of operations in reverse order to compute gradients.\n",
        "\n",
        "We use the `tf.GradientTape` api for this, see detailed guide here https://www.tensorflow.org/guide/autodiff"
      ]
    },
    {
      "cell_type": "markdown",
      "metadata": {
        "id": "gkK-xns8VTdI"
      },
      "source": [
        "### Differentiating wrt a scalar variable\n",
        "\n",
        "$$\n",
        "x = 4, \\qquad y = x^2, \\qquad z = 2 y\n",
        "$$\n",
        "\n",
        "Then\n",
        "\n",
        "$$\n",
        "\\frac{dz}{dx} = 2 \\frac{d y}{d x} = 2 (2 x)\n",
        "$$"
      ]
    },
    {
      "cell_type": "code",
      "execution_count": 15,
      "metadata": {
        "colab": {
          "base_uri": "https://localhost:8080/"
        },
        "id": "eGdt58rgVTdJ",
        "outputId": "b548f287-5bd6-446f-bf69-a644f70b0f3d"
      },
      "outputs": [
        {
          "name": "stdout",
          "output_type": "stream",
          "text": [
            " x: <tf.Variable 'Variable:0' shape=() dtype=float32, numpy=4.0>\n",
            "\n",
            " y: tf.Tensor(16.0, shape=(), dtype=float32)\n",
            "\n",
            " z: tf.Tensor(32.0, shape=(), dtype=float32)\n",
            "\n",
            " dz_dx: 16.0\n"
          ]
        }
      ],
      "source": [
        "x = tf.Variable(4.0)\n",
        "print(' x:',x)\n",
        "\n",
        "with tf.GradientTape() as tape:\n",
        "    y = x**2\n",
        "    z = 2*y\n",
        "\n",
        "print(f'\\n y:', y) # NOTE THE OBJECT TYPE\n",
        "print(f'\\n z:', z)\n",
        "\n",
        "dz_dx = tape.gradient(z, x)  # Evaluate gradient\n",
        "print(f'\\n dz_dx:',dz_dx.numpy())"
      ]
    },
    {
      "cell_type": "markdown",
      "metadata": {
        "id": "LIUbIw9nVTdM"
      },
      "source": [
        "### Differentiating wrt a scalar tensor (not a variable)"
      ]
    },
    {
      "cell_type": "code",
      "execution_count": 16,
      "metadata": {
        "colab": {
          "base_uri": "https://localhost:8080/"
        },
        "id": "jNHRZ0zoVTdM",
        "outputId": "234764d3-ea59-4a35-f547-03c31b541a7d"
      },
      "outputs": [
        {
          "name": "stdout",
          "output_type": "stream",
          "text": [
            " x: tf.Tensor(4.0, shape=(), dtype=float32)\n",
            "\n",
            " dz_dx: None\n"
          ]
        }
      ],
      "source": [
        "x = tf.constant(4.0)\n",
        "print(' x:',x)\n",
        "\n",
        "with tf.GradientTape() as tape:\n",
        "    y = x**2\n",
        "    z = 2*y\n",
        "\n",
        "dz_dx = tape.gradient(z, x)  # Evaluate gradient\n",
        "print(f'\\n dz_dx:',dz_dx)"
      ]
    },
    {
      "cell_type": "markdown",
      "metadata": {
        "id": "238giV5zVTdN"
      },
      "source": [
        "### To differentiate wrt a tensor x, it needs to be watched by the tape"
      ]
    },
    {
      "cell_type": "code",
      "execution_count": 17,
      "metadata": {
        "colab": {
          "base_uri": "https://localhost:8080/"
        },
        "id": "_qvM4Mn8VTdO",
        "outputId": "0d4ecf0d-da85-4348-ee2d-2d6d028c3dc0"
      },
      "outputs": [
        {
          "name": "stdout",
          "output_type": "stream",
          "text": [
            " x: tf.Tensor(4.0, shape=(), dtype=float32)\n",
            "\n",
            " dz_dx: tf.Tensor(16.0, shape=(), dtype=float32)\n"
          ]
        }
      ],
      "source": [
        "x = tf.constant(4.0)\n",
        "print(' x:',x)\n",
        "\n",
        "with tf.GradientTape() as tape:\n",
        "    tape.watch(x)\n",
        "    y = x**2\n",
        "    z = 2*y\n",
        "\n",
        "dz_dx = tape.gradient(z, x)  # Evaluate gradient\n",
        "print(f'\\n dz_dx:',dz_dx)"
      ]
    },
    {
      "cell_type": "markdown",
      "metadata": {
        "id": "cLCEMwfvVTdO"
      },
      "source": [
        "## Non-persistant vs persistent tapes\n",
        "\n",
        "By default, the tape is deleted after a single call to tape.gradient()"
      ]
    },
    {
      "cell_type": "code",
      "execution_count": 18,
      "metadata": {
        "colab": {
          "base_uri": "https://localhost:8080/",
          "height": 357
        },
        "id": "ly2VCSo_VTdP",
        "outputId": "0dbebf92-5388-4cfd-c5c3-15a0734dd180"
      },
      "outputs": [
        {
          "name": "stdout",
          "output_type": "stream",
          "text": [
            "\n",
            " dz_dx: tf.Tensor(16.0, shape=(), dtype=float32)\n"
          ]
        },
        {
          "ename": "RuntimeError",
          "evalue": "A non-persistent GradientTape can only be used to compute one set of gradients (or jacobians)",
          "output_type": "error",
          "traceback": [
            "\u001b[0;31m---------------------------------------------------------------------------\u001b[0m",
            "\u001b[0;31mRuntimeError\u001b[0m                              Traceback (most recent call last)",
            "Cell \u001b[0;32mIn [18], line 8\u001b[0m\n\u001b[1;32m      6\u001b[0m dz_dx \u001b[39m=\u001b[39m tape\u001b[39m.\u001b[39mgradient(z, x) \u001b[39m#(4 * x)\u001b[39;00m\n\u001b[1;32m      7\u001b[0m \u001b[39mprint\u001b[39m(\u001b[39mf\u001b[39m\u001b[39m'\u001b[39m\u001b[39m\\n\u001b[39;00m\u001b[39m dz_dx:\u001b[39m\u001b[39m'\u001b[39m,dz_dx)  \n\u001b[0;32m----> 8\u001b[0m dy_dx \u001b[39m=\u001b[39m tape\u001b[39m.\u001b[39;49mgradient(y, x)\n",
            "File \u001b[0;32m/opt/homebrew/Caskroom/miniforge/base/lib/python3.10/site-packages/tensorflow/python/eager/backprop.py:1055\u001b[0m, in \u001b[0;36mGradientTape.gradient\u001b[0;34m(self, target, sources, output_gradients, unconnected_gradients)\u001b[0m\n\u001b[1;32m   1015\u001b[0m \u001b[39m\"\"\"Computes the gradient using operations recorded in context of this tape.\u001b[39;00m\n\u001b[1;32m   1016\u001b[0m \n\u001b[1;32m   1017\u001b[0m \u001b[39mNote: Unless you set `persistent=True` a GradientTape can only be used to\u001b[39;00m\n\u001b[0;32m   (...)\u001b[0m\n\u001b[1;32m   1052\u001b[0m \u001b[39m   called with an unknown value.\u001b[39;00m\n\u001b[1;32m   1053\u001b[0m \u001b[39m\"\"\"\u001b[39;00m\n\u001b[1;32m   1054\u001b[0m \u001b[39mif\u001b[39;00m \u001b[39mself\u001b[39m\u001b[39m.\u001b[39m_tape \u001b[39mis\u001b[39;00m \u001b[39mNone\u001b[39;00m:\n\u001b[0;32m-> 1055\u001b[0m   \u001b[39mraise\u001b[39;00m \u001b[39mRuntimeError\u001b[39;00m(\u001b[39m\"\u001b[39m\u001b[39mA non-persistent GradientTape can only be used to \u001b[39m\u001b[39m\"\u001b[39m\n\u001b[1;32m   1056\u001b[0m                      \u001b[39m\"\u001b[39m\u001b[39mcompute one set of gradients (or jacobians)\u001b[39m\u001b[39m\"\u001b[39m)\n\u001b[1;32m   1057\u001b[0m \u001b[39mif\u001b[39;00m \u001b[39mself\u001b[39m\u001b[39m.\u001b[39m_recording:\n\u001b[1;32m   1058\u001b[0m   \u001b[39mif\u001b[39;00m \u001b[39mnot\u001b[39;00m \u001b[39mself\u001b[39m\u001b[39m.\u001b[39m_persistent:\n",
            "\u001b[0;31mRuntimeError\u001b[0m: A non-persistent GradientTape can only be used to compute one set of gradients (or jacobians)"
          ]
        }
      ],
      "source": [
        "x = tf.Variable(4.0)\n",
        "with tf.GradientTape() as tape:\n",
        "    y = x**2\n",
        "    z = 2*y\n",
        "\n",
        "dz_dx = tape.gradient(z, x) #(4 * x)\n",
        "print(f'\\n dz_dx:',dz_dx)  \n",
        "dy_dx = tape.gradient(y, x)  #(2 * x)"
      ]
    },
    {
      "cell_type": "markdown",
      "metadata": {
        "id": "AZ4JXqulVTdP"
      },
      "source": [
        "### Option 1: Use a persistant tape"
      ]
    },
    {
      "cell_type": "code",
      "execution_count": 19,
      "metadata": {
        "colab": {
          "base_uri": "https://localhost:8080/"
        },
        "id": "6JBMVnc_VTdQ",
        "outputId": "f2f6528f-412e-40eb-d48e-12817c2b03c8"
      },
      "outputs": [
        {
          "name": "stdout",
          "output_type": "stream",
          "text": [
            "\n",
            " dz_dx: tf.Tensor(16.0, shape=(), dtype=float32)\n",
            "\n",
            " dy_dx: tf.Tensor(8.0, shape=(), dtype=float32)\n"
          ]
        }
      ],
      "source": [
        "x = tf.Variable(4.0)\n",
        "with tf.GradientTape(persistent=True) as tape:\n",
        "    y = x**2\n",
        "    z = 2*y\n",
        "\n",
        "dz_dx = tape.gradient(z, x) #(4 * x)\n",
        "print(f'\\n dz_dx:',dz_dx)  \n",
        "dy_dx = tape.gradient(y, x)  #(2 * x)\n",
        "print(f'\\n dy_dx:',dy_dx)\n",
        "\n",
        "del tape # Clearing the tape, since it doesn't happen automatically now"
      ]
    },
    {
      "cell_type": "markdown",
      "metadata": {
        "id": "bfdzCRotVTdQ"
      },
      "source": [
        "### Option 2: use nested tapes"
      ]
    },
    {
      "cell_type": "code",
      "execution_count": 20,
      "metadata": {
        "colab": {
          "base_uri": "https://localhost:8080/"
        },
        "id": "2laqDGLoVTdQ",
        "outputId": "f885409e-dcf8-4bca-8d98-8d612ac58cdb"
      },
      "outputs": [
        {
          "name": "stdout",
          "output_type": "stream",
          "text": [
            "\n",
            " dz_dx: tf.Tensor(16.0, shape=(), dtype=float32)\n",
            "\n",
            " dy_dx: tf.Tensor(8.0, shape=(), dtype=float32)\n"
          ]
        }
      ],
      "source": [
        "x = tf.Variable(4.0)\n",
        "with tf.GradientTape() as tape1:\n",
        "    with tf.GradientTape() as tape2:\n",
        "      y = x**2\n",
        "      z = 2*y\n",
        "    dz_dx = tape2.gradient(z, x)  # Tape 2 gets deleted after this call\n",
        "dy_dx = tape1.gradient(y, x)      # Tape 1 gets deleted after this call\n",
        "print(f'\\n dz_dx:',dz_dx) \n",
        "print(f'\\n dy_dx:',dy_dx)  "
      ]
    },
    {
      "cell_type": "markdown",
      "metadata": {
        "id": "dRBnzEcfM_yM"
      },
      "source": [
        "## Higher-order derivates\n",
        "\n",
        "We can use this strategy to evalaute higher-order derivates."
      ]
    },
    {
      "cell_type": "code",
      "execution_count": 21,
      "metadata": {
        "colab": {
          "base_uri": "https://localhost:8080/"
        },
        "id": "-9HOouSzNKeG",
        "outputId": "d384e798-744c-4299-8b99-af229350e2d4"
      },
      "outputs": [
        {
          "name": "stdout",
          "output_type": "stream",
          "text": [
            "\n",
            " dy_dx: tf.Tensor(32.0, shape=(), dtype=float32)\n",
            "\n",
            " d2y_dx2: tf.Tensor(48.0, shape=(), dtype=float32)\n"
          ]
        }
      ],
      "source": [
        "x = tf.Variable(2.0)\n",
        "with tf.GradientTape() as tape1:\n",
        "    with tf.GradientTape() as tape2:\n",
        "      y = x**4\n",
        "    dy_dx = tape2.gradient(y, x)      # 4*x**3\n",
        "d2y_dx2 = tape1.gradient(dy_dx, x)    # 12*x**2\n",
        "print(f'\\n dy_dx:',dy_dx) \n",
        "print(f'\\n d2y_dx2:',d2y_dx2) "
      ]
    },
    {
      "cell_type": "markdown",
      "metadata": {
        "id": "HEsF9mc5VTdT"
      },
      "source": [
        "## Differentiating a tensor wrt to a tensor\n",
        "\n",
        "Say $ x \\in \\mathbb{R}^d$ and $y \\in \\mathbb{R}^D$, then\n",
        "\n",
        "$$\n",
        "g := grad(y,x) \\in \\mathbb{R}^d\n",
        "$$ \n",
        "\n",
        "with \n",
        "\n",
        "$$\n",
        "g_i = \\sum_{j=1}^D \\frac{\\partial y_j}{\\partial x_i}\n",
        "$$\n",
        "\n",
        "In the following example\n",
        "\n",
        "$$x = \\begin{bmatrix}x_1\\\\x_2\\\\x_3\\end{bmatrix}= \\begin{bmatrix}2.0\\\\3.0\\\\4.0\\end{bmatrix}, \\quad A = \\begin{bmatrix} 1.0 & 2.0 & 0.0 \\\\ 1.0 & 1.0 & -1.0\\end{bmatrix}, \\quad y = Ax = \\begin{bmatrix}x_1 + 2x_2\\\\x_1 + x_2-x_3\\end{bmatrix} = \\begin{bmatrix}8\\\\1\\end{bmatrix}$$\n",
        "\n",
        "$$\\frac{d y}{d x} = \\begin{bmatrix}1 & 1\\\\2 & 1 \\\\0 & -1\\end{bmatrix}^\\top \\quad \\implies grad(y,x) = \\begin{bmatrix}2\\\\3 \\\\-1\\end{bmatrix}$$"
      ]
    },
    {
      "cell_type": "code",
      "execution_count": 22,
      "metadata": {
        "colab": {
          "base_uri": "https://localhost:8080/"
        },
        "id": "u8syTA6HpzZk",
        "outputId": "cd82312b-75cb-44c7-b8ba-8bd95eadcdf4"
      },
      "outputs": [
        {
          "name": "stdout",
          "output_type": "stream",
          "text": [
            "\n",
            "x:  [[2.]\n",
            " [3.]\n",
            " [4.]]\n",
            "\n",
            "y:  [[8.]\n",
            " [1.]]\n",
            "\n",
            "grad(y,x):  [[ 2.]\n",
            " [ 3.]\n",
            " [-1.]]\n"
          ]
        }
      ],
      "source": [
        "x = tf.Variable([[2.0],[3.0],[4.0]])\n",
        "A = tf.constant([[1.0,2.0,0.0],[1.0,1.0,-1.0]])\n",
        "\n",
        "with tf.GradientTape() as tape:\n",
        "  y = tf.matmul(A,x)\n",
        "\n",
        "print('\\nx: ',x.numpy())\n",
        "print('\\ny: ',y.numpy())\n",
        "\n",
        "grad = tape.gradient(y, x)\n",
        "print('\\ngrad(y,x): ',grad.numpy())"
      ]
    },
    {
      "cell_type": "markdown",
      "metadata": {
        "id": "ePTiZ6RJvOnN"
      },
      "source": [
        "To revaluate the full Jacobian, we need to use tape.jacobian (https://www.tensorflow.org/guide/advanced_autodiff#jacobians)\n",
        "\n",
        "Note that since x in the example below is a tensor of size 3x1 and y is a tensor of size 2x1, the Jacobian is a tensor of size 2x1x3x1. "
      ]
    },
    {
      "cell_type": "code",
      "execution_count": 23,
      "metadata": {
        "colab": {
          "base_uri": "https://localhost:8080/"
        },
        "id": "lDvKdUMFz5jd",
        "outputId": "15610d34-44c3-4f70-c951-3ba030b604d4"
      },
      "outputs": [
        {
          "name": "stdout",
          "output_type": "stream",
          "text": [
            "\n",
            "x:  [[2.]\n",
            " [3.]\n",
            " [4.]]\n",
            "\n",
            "y:  [[8.]\n",
            " [1.]]\n",
            "\n",
            "dydx:  [[[[ 1.]\n",
            "   [ 2.]\n",
            "   [ 0.]]]\n",
            "\n",
            "\n",
            " [[[ 1.]\n",
            "   [ 1.]\n",
            "   [-1.]]]]\n",
            "\n",
            "dydx is a tensor of shape:  (2, 1, 3, 1)\n",
            "\n",
            "squeezed dydx:  [[ 1.  2.  0.]\n",
            " [ 1.  1. -1.]]\n"
          ]
        },
        {
          "name": "stderr",
          "output_type": "stream",
          "text": [
            "2022-10-27 12:01:06.226334: W tensorflow/core/platform/profile_utils/cpu_utils.cc:128] Failed to get CPU frequency: 0 Hz\n"
          ]
        }
      ],
      "source": [
        "x = tf.Variable([[2.0],[3.0],[4.0]])\n",
        "A = tf.constant([[1.0,2.0,0.0],[1.0,1.0,-1.0]])\n",
        "\n",
        "with tf.GradientTape() as tape:\n",
        "  y = tf.matmul(A,x)\n",
        "\n",
        "print('\\nx: ',x.numpy())\n",
        "print('\\ny: ',y.numpy())\n",
        "\n",
        "jac = tape.jacobian(y, x)\n",
        "print('\\ndydx: ',jac.numpy())\n",
        "print('\\ndydx is a tensor of shape: ',jac.shape)\n",
        "print('\\nsqueezed dydx: ',tf.squeeze(jac).numpy())"
      ]
    },
    {
      "cell_type": "markdown",
      "metadata": {
        "id": "-iJa83Yh2U7C"
      },
      "source": [
        "For an element-wise calculation, the gradient of the sum gives the derivative of each element with respect to its input-element, since each element is independent. Another way to say this is that the Jacobian is a diagonal matrix."
      ]
    },
    {
      "cell_type": "code",
      "execution_count": 25,
      "metadata": {
        "colab": {
          "base_uri": "https://localhost:8080/",
          "height": 284
        },
        "id": "ls6qAuzLVTdT",
        "outputId": "13aec7ef-6bea-4955-dac6-7270da019cf7"
      },
      "outputs": [
        {
          "data": {
            "image/png": "[encoded data removed]",
            "text/plain": [
              "<Figure size 640x480 with 1 Axes>"
            ]
          },
          "metadata": {},
          "output_type": "display_data"
        }
      ],
      "source": [
        "x = tf.linspace(0.0, 4*np.pi, 100)\n",
        "\n",
        "with tf.GradientTape() as tape:\n",
        "    tape.watch(x)\n",
        "    y = tf.math.sin(x)\n",
        "\n",
        "dy_dx = tape.gradient(y,x)\n",
        "\n",
        "plt.plot(x, y, label='y')\n",
        "plt.plot(x, dy_dx, label='dy/dx')\n",
        "plt.legend(loc='lower left',fontsize=15);\n",
        "plt.xlabel('x',fontsize=15);"
      ]
    },
    {
      "cell_type": "markdown",
      "metadata": {
        "id": "dTDvLkRc7X-1"
      },
      "source": [
        "### Gradients of ReLU"
      ]
    },
    {
      "cell_type": "code",
      "execution_count": 26,
      "metadata": {
        "colab": {
          "base_uri": "https://localhost:8080/",
          "height": 284
        },
        "id": "xPAwSAmn61mO",
        "outputId": "44e4a45f-2d05-4cb1-ed7e-0928c1cdc25c"
      },
      "outputs": [
        {
          "data": {
            "image/png": "[encoded data removed]",
            "text/plain": [
              "<Figure size 640x480 with 1 Axes>"
            ]
          },
          "metadata": {},
          "output_type": "display_data"
        }
      ],
      "source": [
        "x = tf.linspace(-1,1, 101)\n",
        "\n",
        "with tf.GradientTape() as tape1:\n",
        "    tape1.watch(x)\n",
        "    with tf.GradientTape() as tape2:\n",
        "        tape2.watch(x)\n",
        "        y = tf.nn.relu(x)\n",
        "    dy_dx = tape2.gradient(y,x)\n",
        "d2y_dx2 = tape1.gradient(dy_dx,x)    \n",
        "\n",
        "plt.plot(x, y, label='y')\n",
        "plt.plot(x, dy_dx, label='dy/dx')\n",
        "plt.plot(x, d2y_dx2, label='d2y/dx2')\n",
        "plt.legend(loc='upper left',fontsize=15);\n",
        "plt.xlabel('x',fontsize=15);"
      ]
    }
  ],
  "metadata": {
    "colab": {
      "collapsed_sections": [],
      "name": "Gradients_in_TF2.ipynb",
      "provenance": []
    },
    "kernelspec": {
      "display_name": "Python 3.9.13 ('base')",
      "language": "python",
      "name": "python3"
    },
    "language_info": {
      "codemirror_mode": {
        "name": "ipython",
        "version": 3
      },
      "file_extension": ".py",
      "mimetype": "text/x-python",
      "name": "python",
      "nbconvert_exporter": "python",
      "pygments_lexer": "ipython3",
      "version": "3.10.6"
    },
    "vscode": {
      "interpreter": {
        "hash": "c6e4e9f98eb68ad3b7c296f83d20e6de614cb42e90992a65aa266555a3137d0d"
      }
    }
  },
  "nbformat": 4,
  "nbformat_minor": 0
}
