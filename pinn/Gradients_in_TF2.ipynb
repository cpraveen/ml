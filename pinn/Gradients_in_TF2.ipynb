{
  "cells": [
    {
      "cell_type": "markdown",
      "metadata": {},
      "source": [
        "# Tensors and gradients"
      ]
    },
    {
      "cell_type": "code",
      "execution_count": 5,
      "metadata": {
        "id": "hMeZ2inBVTdF"
      },
      "outputs": [],
      "source": [
        "%config InlineBackend.figure_format = 'svg'\n",
        "import numpy as np\n",
        "import tensorflow as tf\n",
        "from tensorflow import keras\n",
        "import matplotlib.pyplot as plt"
      ]
    },
    {
      "cell_type": "markdown",
      "metadata": {
        "id": "8O8igM3SydJD"
      },
      "source": [
        "## Tensors (https://www.tensorflow.org/guide/tensor)\n",
        "\n",
        "Tensors are multi-dimensional arrays with a uniform type, similar to numpy arrays"
      ]
    },
    {
      "cell_type": "code",
      "execution_count": 6,
      "metadata": {
        "colab": {
          "base_uri": "https://localhost:8080/"
        },
        "id": "1vBO7fdAygTL",
        "outputId": "ed0f1e07-6912-4df8-b685-63a30682f9c5"
      },
      "outputs": [
        {
          "name": "stdout",
          "output_type": "stream",
          "text": [
            "\n",
            "tensor1:  tf.Tensor(4, shape=(), dtype=int32)\n",
            "\n",
            "tensor2:  tf.Tensor([1. 2. 3.], shape=(3,), dtype=float32)\n",
            "\n",
            "tensor3:  tf.Tensor(\n",
            "[[1.  2.  3. ]\n",
            " [3.4 1.  1. ]], shape=(2, 3), dtype=float32)\n",
            "\n",
            "tensor4:  tf.Tensor(\n",
            "[0.         0.11111111 0.22222222 0.33333333 0.44444444 0.55555556\n",
            " 0.66666667 0.77777778 0.88888889 1.        ], shape=(10,), dtype=float64)\n"
          ]
        }
      ],
      "source": [
        "tensor1 = tf.constant(4)\n",
        "print('\\ntensor1: ',tensor1)\n",
        "\n",
        "tensor2 = tf.constant([1.0,2.0,3.0])\n",
        "print('\\ntensor2: ',tensor2)\n",
        "\n",
        "tensor3 = tf.constant([[1.0,2.0,3.0],[3.4,1.0,1.0]])\n",
        "print('\\ntensor3: ',tensor3)\n",
        "\n",
        "tensor4 = tf.linspace(0,1,10)\n",
        "print('\\ntensor4: ',tensor4)"
      ]
    },
    {
      "cell_type": "markdown",
      "metadata": {
        "id": "v8V8W9Uf0KKR"
      },
      "source": [
        "Tensors can be converted to numpy arrays"
      ]
    },
    {
      "cell_type": "code",
      "execution_count": 7,
      "metadata": {
        "colab": {
          "base_uri": "https://localhost:8080/"
        },
        "id": "fl5ut3D00Qy-",
        "outputId": "53ed13b6-34f0-4b15-c1e4-50fcde631f4b"
      },
      "outputs": [
        {
          "name": "stdout",
          "output_type": "stream",
          "text": [
            "\n",
            "tensor4 converted numpy array:  [0.         0.11111111 0.22222222 0.33333333 0.44444444 0.55555556\n",
            " 0.66666667 0.77777778 0.88888889 1.        ]\n",
            "\n",
            "type:  <class 'numpy.ndarray'>\n"
          ]
        }
      ],
      "source": [
        "tensor4_np = tensor4.numpy()\n",
        "print('\\ntensor4 converted numpy array: ',tensor4_np)\n",
        "print('\\ntype: ',type(tensor4_np))"
      ]
    },
    {
      "cell_type": "markdown",
      "metadata": {
        "id": "6RVCxdcx0AaP"
      },
      "source": [
        " All tensors are immutable like Python numbers and strings: you can never update the contents of a tensor, only create a new one."
      ]
    },
    {
      "cell_type": "code",
      "execution_count": 8,
      "metadata": {
        "colab": {
          "base_uri": "https://localhost:8080/",
          "height": 201
        },
        "id": "fA8stmW10za6",
        "outputId": "d4330068-03b2-4a67-8034-d2eae445623c"
      },
      "outputs": [
        {
          "name": "stdout",
          "output_type": "stream",
          "text": [
            "6th element of tensor4:  0.5555555555555556\n"
          ]
        },
        {
          "ename": "TypeError",
          "evalue": "'tensorflow.python.framework.ops.EagerTensor' object does not support item assignment",
          "output_type": "error",
          "traceback": [
            "\u001b[0;31m---------------------------------------------------------------------------\u001b[0m",
            "\u001b[0;31mTypeError\u001b[0m                                 Traceback (most recent call last)",
            "Cell \u001b[0;32mIn [8], line 2\u001b[0m\n\u001b[1;32m      1\u001b[0m \u001b[39mprint\u001b[39m(\u001b[39m'\u001b[39m\u001b[39m6th element of tensor4: \u001b[39m\u001b[39m'\u001b[39m,tensor4[\u001b[39m5\u001b[39m]\u001b[39m.\u001b[39mnumpy())\n\u001b[0;32m----> 2\u001b[0m tensor4[\u001b[39m5\u001b[39;49m] \u001b[39m=\u001b[39m \u001b[39m100.0\u001b[39m\n",
            "\u001b[0;31mTypeError\u001b[0m: 'tensorflow.python.framework.ops.EagerTensor' object does not support item assignment"
          ]
        }
      ],
      "source": [
        "print('6th element of tensor4: ',tensor4[5].numpy())\n",
        "tensor4[5] = 100.0"
      ]
    },
    {
      "cell_type": "markdown",
      "metadata": {
        "id": "cZ5MAgDn1kMQ"
      },
      "source": [
        "## Variables (https://www.tensorflow.org/guide/variable)\n",
        "\n",
        "A variable is a tensor whose value can be changed by running operations on it"
      ]
    },
    {
      "cell_type": "code",
      "execution_count": null,
      "metadata": {
        "colab": {
          "base_uri": "https://localhost:8080/"
        },
        "id": "CRh-la_X131p",
        "outputId": "57fdee38-987f-4ebf-a427-8a0f6b30aba3"
      },
      "outputs": [
        {
          "name": "stdout",
          "output_type": "stream",
          "text": [
            "\n",
            "var1:  <tf.Variable 'Variable:0' shape=() dtype=int32, numpy=4>\n",
            "\n",
            "var2:  <tf.Variable 'Variable:0' shape=(3,) dtype=float32, numpy=array([1., 2., 3.], dtype=float32)>\n",
            "\n",
            "var3:  <tf.Variable 'Variable:0' shape=(10,) dtype=float64, numpy=\n",
            "array([0.        , 0.11111111, 0.22222222, 0.33333333, 0.44444444,\n",
            "       0.55555556, 0.66666667, 0.77777778, 0.88888889, 1.        ])>\n"
          ]
        }
      ],
      "source": [
        "var1 = tf.Variable(4)\n",
        "print('\\nvar1: ',var1)\n",
        "\n",
        "var2 = tf.Variable(tensor2)\n",
        "print('\\nvar2: ',var2)\n",
        "\n",
        "var3 = tf.Variable(tf.linspace(0,1,10))\n",
        "print('\\nvar3: ',var3)"
      ]
    },
    {
      "cell_type": "markdown",
      "metadata": {
        "id": "KV6ZxudhAOZe"
      },
      "source": [
        "After construction, the type and shape of the variable are fixed. The value can be changed using one of the assign methods."
      ]
    },
    {
      "cell_type": "code",
      "execution_count": null,
      "metadata": {
        "colab": {
          "base_uri": "https://localhost:8080/",
          "height": 496
        },
        "id": "2efeQVVBANxl",
        "outputId": "0965655a-8cb5-436c-bfe1-e8d973c13f20"
      },
      "outputs": [
        {
          "name": "stdout",
          "output_type": "stream",
          "text": [
            "\n",
            "var4:  [1. 2.]\n",
            "\n",
            "modified var4:  [3. 4.]\n",
            "\n",
            "modified var4:  [4. 6.]\n",
            "\n",
            "modified var4:  [3. 4.]\n",
            "\n",
            "recall that the shape is fixed\n"
          ]
        },
        {
          "ename": "ValueError",
          "evalue": "Cannot assign value to variable ' Variable:0': Shape mismatch.The variable shape (2,), and the assigned value shape (3,) are incompatible.",
          "output_type": "error",
          "traceback": [
            "\u001b[0;31m---------------------------------------------------------------------------\u001b[0m",
            "\u001b[0;31mValueError\u001b[0m                                Traceback (most recent call last)",
            "Cell \u001b[0;32mIn [14], line 14\u001b[0m\n\u001b[1;32m     11\u001b[0m \u001b[39mprint\u001b[39m(\u001b[39m'\u001b[39m\u001b[39m\\n\u001b[39;00m\u001b[39mmodified var4: \u001b[39m\u001b[39m'\u001b[39m,var4\u001b[39m.\u001b[39mnumpy())\n\u001b[1;32m     13\u001b[0m \u001b[39mprint\u001b[39m(\u001b[39m'\u001b[39m\u001b[39m\\n\u001b[39;00m\u001b[39mrecall that the shape is fixed\u001b[39m\u001b[39m'\u001b[39m)\n\u001b[0;32m---> 14\u001b[0m var4\u001b[39m.\u001b[39;49massign([\u001b[39m3.0\u001b[39;49m,\u001b[39m4.0\u001b[39;49m,\u001b[39m4.0\u001b[39;49m])\n",
            "File \u001b[0;32m/opt/homebrew/Caskroom/miniforge/base/lib/python3.10/site-packages/tensorflow/python/ops/resource_variable_ops.py:931\u001b[0m, in \u001b[0;36mBaseResourceVariable.assign\u001b[0;34m(self, value, use_locking, name, read_value)\u001b[0m\n\u001b[1;32m    929\u001b[0m   \u001b[39melse\u001b[39;00m:\n\u001b[1;32m    930\u001b[0m     tensor_name \u001b[39m=\u001b[39m \u001b[39m\"\u001b[39m\u001b[39m \u001b[39m\u001b[39m\"\u001b[39m \u001b[39m+\u001b[39m \u001b[39mstr\u001b[39m(\u001b[39mself\u001b[39m\u001b[39m.\u001b[39mname)\n\u001b[0;32m--> 931\u001b[0m   \u001b[39mraise\u001b[39;00m \u001b[39mValueError\u001b[39;00m(\n\u001b[1;32m    932\u001b[0m       (\u001b[39mf\u001b[39m\u001b[39m\"\u001b[39m\u001b[39mCannot assign value to variable \u001b[39m\u001b[39m'\u001b[39m\u001b[39m{\u001b[39;00mtensor_name\u001b[39m}\u001b[39;00m\u001b[39m'\u001b[39m\u001b[39m: Shape mismatch.\u001b[39m\u001b[39m\"\u001b[39m\n\u001b[1;32m    933\u001b[0m        \u001b[39mf\u001b[39m\u001b[39m\"\u001b[39m\u001b[39mThe variable shape \u001b[39m\u001b[39m{\u001b[39;00m\u001b[39mself\u001b[39m\u001b[39m.\u001b[39m_shape\u001b[39m}\u001b[39;00m\u001b[39m, and the \u001b[39m\u001b[39m\"\u001b[39m\n\u001b[1;32m    934\u001b[0m        \u001b[39mf\u001b[39m\u001b[39m\"\u001b[39m\u001b[39massigned value shape \u001b[39m\u001b[39m{\u001b[39;00mvalue_tensor\u001b[39m.\u001b[39mshape\u001b[39m}\u001b[39;00m\u001b[39m are incompatible.\u001b[39m\u001b[39m\"\u001b[39m))\n\u001b[1;32m    935\u001b[0m kwargs \u001b[39m=\u001b[39m {}\n\u001b[1;32m    936\u001b[0m \u001b[39mif\u001b[39;00m forward_compat\u001b[39m.\u001b[39mforward_compatible(\u001b[39m2022\u001b[39m, \u001b[39m3\u001b[39m, \u001b[39m23\u001b[39m):\n\u001b[1;32m    937\u001b[0m   \u001b[39m# If the shape is fully defined, we do a runtime check with the shape of\u001b[39;00m\n\u001b[1;32m    938\u001b[0m   \u001b[39m# value.\u001b[39;00m\n",
            "\u001b[0;31mValueError\u001b[0m: Cannot assign value to variable ' Variable:0': Shape mismatch.The variable shape (2,), and the assigned value shape (3,) are incompatible."
          ]
        }
      ],
      "source": [
        "var4 = tf.Variable([1.0,2.0])\n",
        "print('\\nvar4: ', var4.numpy())\n",
        "\n",
        "var4.assign([3.0,4.0])\n",
        "print('\\nmodified var4: ',var4.numpy())\n",
        "\n",
        "var4.assign_add([1.0,2.0])\n",
        "print('\\nmodified var4: ',var4.numpy())\n",
        "\n",
        "var4.assign_sub([1.0,2.0])\n",
        "print('\\nmodified var4: ',var4.numpy())\n",
        "\n",
        "print('\\nrecall that the shape is fixed')\n",
        "var4.assign([3.0,4.0,4.0])"
      ]
    },
    {
      "cell_type": "markdown",
      "metadata": {
        "id": "N_YfrXkoVTdG"
      },
      "source": [
        "## Gradients in Tensorflow:\n",
        "\n",
        "To differentiate automatically, TensorFlow needs to remember what operations happen in what order during the forward pass. Then, during the backward pass, TensorFlow traverses this list of operations in reverse order to compute gradients.\n",
        "\n",
        "We use the `tf.GradientTape` api for this, see detailed guide here https://www.tensorflow.org/guide/autodiff"
      ]
    },
    {
      "cell_type": "markdown",
      "metadata": {
        "id": "gkK-xns8VTdI"
      },
      "source": [
        "### Differentiating wrt a scalar variable\n",
        "\n",
        "$$\n",
        "x = 4, \\qquad y = x^2, \\qquad z = 2 y\n",
        "$$\n",
        "\n",
        "Then\n",
        "\n",
        "$$\n",
        "\\frac{dz}{dx} = 2 \\frac{d y}{d x} = 2 (2 x) = 4 x\n",
        "$$\n",
        "\n",
        "so that\n",
        "\n",
        "$$\n",
        "x = 4: \\qquad \\frac{dz}{dx} = 16\n",
        "$$"
      ]
    },
    {
      "cell_type": "code",
      "execution_count": 9,
      "metadata": {
        "colab": {
          "base_uri": "https://localhost:8080/"
        },
        "id": "eGdt58rgVTdJ",
        "outputId": "b548f287-5bd6-446f-bf69-a644f70b0f3d"
      },
      "outputs": [
        {
          "name": "stdout",
          "output_type": "stream",
          "text": [
            " x: <tf.Variable 'Variable:0' shape=() dtype=float32, numpy=4.0>\n",
            "\n",
            " y: tf.Tensor(16.0, shape=(), dtype=float32)\n",
            "\n",
            " z: tf.Tensor(32.0, shape=(), dtype=float32)\n",
            "\n",
            " dz_dx: 16.0\n"
          ]
        }
      ],
      "source": [
        "x = tf.Variable(4.0)\n",
        "print(' x:',x)\n",
        "\n",
        "with tf.GradientTape() as tape:\n",
        "    y = x**2\n",
        "    z = 2*y\n",
        "\n",
        "print(f'\\n y:', y) # NOTE THE OBJECT TYPE\n",
        "print(f'\\n z:', z)\n",
        "\n",
        "dz_dx = tape.gradient(z, x)  # Evaluate gradient\n",
        "print(f'\\n dz_dx:',dz_dx.numpy())"
      ]
    },
    {
      "cell_type": "markdown",
      "metadata": {
        "id": "LIUbIw9nVTdM"
      },
      "source": [
        "### Differentiating wrt a scalar tensor (not a variable)"
      ]
    },
    {
      "cell_type": "code",
      "execution_count": 10,
      "metadata": {
        "colab": {
          "base_uri": "https://localhost:8080/"
        },
        "id": "jNHRZ0zoVTdM",
        "outputId": "234764d3-ea59-4a35-f547-03c31b541a7d"
      },
      "outputs": [
        {
          "name": "stdout",
          "output_type": "stream",
          "text": [
            " x: tf.Tensor(4.0, shape=(), dtype=float32)\n",
            "\n",
            " dz_dx: None\n"
          ]
        }
      ],
      "source": [
        "x = tf.constant(4.0)\n",
        "print(' x:',x)\n",
        "\n",
        "with tf.GradientTape() as tape:\n",
        "    y = x**2\n",
        "    z = 2*y\n",
        "\n",
        "dz_dx = tape.gradient(z, x)  # Evaluate gradient\n",
        "print(f'\\n dz_dx:',dz_dx)"
      ]
    },
    {
      "cell_type": "markdown",
      "metadata": {
        "id": "238giV5zVTdN"
      },
      "source": [
        "We cannot differentiate wrt a constant.\n",
        "\n",
        "### To differentiate wrt a tensor x which is not a Variable, it needs to be watched by the tape"
      ]
    },
    {
      "cell_type": "code",
      "execution_count": 11,
      "metadata": {
        "colab": {
          "base_uri": "https://localhost:8080/"
        },
        "id": "_qvM4Mn8VTdO",
        "outputId": "0d4ecf0d-da85-4348-ee2d-2d6d028c3dc0"
      },
      "outputs": [
        {
          "name": "stdout",
          "output_type": "stream",
          "text": [
            " x: tf.Tensor(4.0, shape=(), dtype=float32)\n",
            "\n",
            " dz_dx: tf.Tensor(16.0, shape=(), dtype=float32)\n"
          ]
        }
      ],
      "source": [
        "x = tf.constant(4.0)\n",
        "print(' x:',x)\n",
        "\n",
        "with tf.GradientTape() as tape:\n",
        "    tape.watch(x)\n",
        "    y = x**2\n",
        "    z = 2*y\n",
        "\n",
        "dz_dx = tape.gradient(z, x)  # Evaluate gradient\n",
        "print(f'\\n dz_dx:',dz_dx)"
      ]
    },
    {
      "cell_type": "markdown",
      "metadata": {
        "id": "cLCEMwfvVTdO"
      },
      "source": [
        "## Non-persistant vs persistent tapes\n",
        "\n",
        "By default, the tape is deleted after a single call to `tape.gradient()`"
      ]
    },
    {
      "cell_type": "code",
      "execution_count": 12,
      "metadata": {
        "colab": {
          "base_uri": "https://localhost:8080/",
          "height": 357
        },
        "id": "ly2VCSo_VTdP",
        "outputId": "0dbebf92-5388-4cfd-c5c3-15a0734dd180"
      },
      "outputs": [
        {
          "name": "stdout",
          "output_type": "stream",
          "text": [
            "\n",
            " dz_dx: tf.Tensor(16.0, shape=(), dtype=float32)\n"
          ]
        },
        {
          "ename": "RuntimeError",
          "evalue": "A non-persistent GradientTape can only be used to compute one set of gradients (or jacobians)",
          "output_type": "error",
          "traceback": [
            "\u001b[0;31m---------------------------------------------------------------------------\u001b[0m",
            "\u001b[0;31mRuntimeError\u001b[0m                              Traceback (most recent call last)",
            "Cell \u001b[0;32mIn [12], line 8\u001b[0m\n\u001b[1;32m      6\u001b[0m dz_dx \u001b[39m=\u001b[39m tape\u001b[39m.\u001b[39mgradient(z, x) \u001b[39m#(4 * x)\u001b[39;00m\n\u001b[1;32m      7\u001b[0m \u001b[39mprint\u001b[39m(\u001b[39mf\u001b[39m\u001b[39m'\u001b[39m\u001b[39m\\n\u001b[39;00m\u001b[39m dz_dx:\u001b[39m\u001b[39m'\u001b[39m,dz_dx)  \n\u001b[0;32m----> 8\u001b[0m dy_dx \u001b[39m=\u001b[39m tape\u001b[39m.\u001b[39;49mgradient(y, x)\n",
            "File \u001b[0;32m/opt/homebrew/Caskroom/miniforge/base/lib/python3.10/site-packages/tensorflow/python/eager/backprop.py:1055\u001b[0m, in \u001b[0;36mGradientTape.gradient\u001b[0;34m(self, target, sources, output_gradients, unconnected_gradients)\u001b[0m\n\u001b[1;32m   1015\u001b[0m \u001b[39m\"\"\"Computes the gradient using operations recorded in context of this tape.\u001b[39;00m\n\u001b[1;32m   1016\u001b[0m \n\u001b[1;32m   1017\u001b[0m \u001b[39mNote: Unless you set `persistent=True` a GradientTape can only be used to\u001b[39;00m\n\u001b[0;32m   (...)\u001b[0m\n\u001b[1;32m   1052\u001b[0m \u001b[39m   called with an unknown value.\u001b[39;00m\n\u001b[1;32m   1053\u001b[0m \u001b[39m\"\"\"\u001b[39;00m\n\u001b[1;32m   1054\u001b[0m \u001b[39mif\u001b[39;00m \u001b[39mself\u001b[39m\u001b[39m.\u001b[39m_tape \u001b[39mis\u001b[39;00m \u001b[39mNone\u001b[39;00m:\n\u001b[0;32m-> 1055\u001b[0m   \u001b[39mraise\u001b[39;00m \u001b[39mRuntimeError\u001b[39;00m(\u001b[39m\"\u001b[39m\u001b[39mA non-persistent GradientTape can only be used to \u001b[39m\u001b[39m\"\u001b[39m\n\u001b[1;32m   1056\u001b[0m                      \u001b[39m\"\u001b[39m\u001b[39mcompute one set of gradients (or jacobians)\u001b[39m\u001b[39m\"\u001b[39m)\n\u001b[1;32m   1057\u001b[0m \u001b[39mif\u001b[39;00m \u001b[39mself\u001b[39m\u001b[39m.\u001b[39m_recording:\n\u001b[1;32m   1058\u001b[0m   \u001b[39mif\u001b[39;00m \u001b[39mnot\u001b[39;00m \u001b[39mself\u001b[39m\u001b[39m.\u001b[39m_persistent:\n",
            "\u001b[0;31mRuntimeError\u001b[0m: A non-persistent GradientTape can only be used to compute one set of gradients (or jacobians)"
          ]
        }
      ],
      "source": [
        "x = tf.Variable(4.0)\n",
        "with tf.GradientTape() as tape:\n",
        "    y = x**2\n",
        "    z = 2*y\n",
        "\n",
        "dz_dx = tape.gradient(z, x) #(4 * x)\n",
        "print(f'\\n dz_dx:',dz_dx)  \n",
        "dy_dx = tape.gradient(y, x)  #(2 * x)"
      ]
    },
    {
      "cell_type": "markdown",
      "metadata": {
        "id": "AZ4JXqulVTdP"
      },
      "source": [
        "### Option 1: Use a persistant tape"
      ]
    },
    {
      "cell_type": "code",
      "execution_count": 13,
      "metadata": {
        "colab": {
          "base_uri": "https://localhost:8080/"
        },
        "id": "6JBMVnc_VTdQ",
        "outputId": "f2f6528f-412e-40eb-d48e-12817c2b03c8"
      },
      "outputs": [
        {
          "name": "stdout",
          "output_type": "stream",
          "text": [
            "\n",
            " dz_dx: tf.Tensor(16.0, shape=(), dtype=float32)\n",
            "\n",
            " dy_dx: tf.Tensor(8.0, shape=(), dtype=float32)\n"
          ]
        }
      ],
      "source": [
        "x = tf.Variable(4.0)\n",
        "with tf.GradientTape(persistent=True) as tape:\n",
        "    y = x**2\n",
        "    z = 2*y\n",
        "\n",
        "dz_dx = tape.gradient(z, x) #(4 * x)\n",
        "print(f'\\n dz_dx:',dz_dx)  \n",
        "dy_dx = tape.gradient(y, x)  #(2 * x)\n",
        "print(f'\\n dy_dx:',dy_dx)\n",
        "\n",
        "del tape # Clearing the tape, since it doesn't happen automatically now"
      ]
    },
    {
      "cell_type": "markdown",
      "metadata": {
        "id": "bfdzCRotVTdQ"
      },
      "source": [
        "### Option 2: use nested tapes"
      ]
    },
    {
      "cell_type": "code",
      "execution_count": 14,
      "metadata": {
        "colab": {
          "base_uri": "https://localhost:8080/"
        },
        "id": "2laqDGLoVTdQ",
        "outputId": "f885409e-dcf8-4bca-8d98-8d612ac58cdb"
      },
      "outputs": [
        {
          "name": "stdout",
          "output_type": "stream",
          "text": [
            "\n",
            " dz_dx: tf.Tensor(16.0, shape=(), dtype=float32)\n",
            "\n",
            " dy_dx: tf.Tensor(8.0, shape=(), dtype=float32)\n"
          ]
        }
      ],
      "source": [
        "x = tf.Variable(4.0)\n",
        "with tf.GradientTape() as tape1:\n",
        "    with tf.GradientTape() as tape2:\n",
        "      y = x**2\n",
        "      z = 2*y\n",
        "    dz_dx = tape2.gradient(z, x)  # Tape 2 gets deleted after this call\n",
        "dy_dx = tape1.gradient(y, x)      # Tape 1 gets deleted after this call\n",
        "print(f'\\n dz_dx:',dz_dx) \n",
        "print(f'\\n dy_dx:',dy_dx)  "
      ]
    },
    {
      "cell_type": "markdown",
      "metadata": {
        "id": "dRBnzEcfM_yM"
      },
      "source": [
        "## Higher-order derivates\n",
        "\n",
        "We can use this strategy to evaluate higher-order derivates."
      ]
    },
    {
      "cell_type": "code",
      "execution_count": 15,
      "metadata": {
        "colab": {
          "base_uri": "https://localhost:8080/"
        },
        "id": "-9HOouSzNKeG",
        "outputId": "d384e798-744c-4299-8b99-af229350e2d4"
      },
      "outputs": [
        {
          "name": "stdout",
          "output_type": "stream",
          "text": [
            "\n",
            " dy_dx: tf.Tensor(32.0, shape=(), dtype=float32)\n",
            "\n",
            " d2y_dx2: tf.Tensor(48.0, shape=(), dtype=float32)\n"
          ]
        }
      ],
      "source": [
        "x = tf.Variable(2.0)\n",
        "with tf.GradientTape() as tape1:\n",
        "    with tf.GradientTape() as tape2:\n",
        "      y = x**4\n",
        "    dy_dx = tape2.gradient(y, x)      # 4*x**3\n",
        "d2y_dx2 = tape1.gradient(dy_dx, x)    # 12*x**2\n",
        "print(f'\\n dy_dx:',dy_dx) \n",
        "print(f'\\n d2y_dx2:',d2y_dx2) "
      ]
    },
    {
      "cell_type": "markdown",
      "metadata": {
        "id": "HEsF9mc5VTdT"
      },
      "source": [
        "## Differentiating a tensor wrt to a tensor\n",
        "\n",
        "Say $ x \\in \\mathbb{R}^d$ and $y \\in \\mathbb{R}^D$, then\n",
        "\n",
        "$$\n",
        "g := grad(y,x) \\in \\mathbb{R}^d\n",
        "$$ \n",
        "\n",
        "with \n",
        "\n",
        "$$\n",
        "g_i = \\sum_{j=1}^D \\frac{\\partial y_j}{\\partial x_i}\n",
        "$$\n",
        "\n",
        "In the following example\n",
        "\n",
        "$$x = \\begin{bmatrix}x_1\\\\x_2\\\\x_3\\end{bmatrix}= \\begin{bmatrix}2.0\\\\3.0\\\\4.0\\end{bmatrix}, \\quad A = \\begin{bmatrix} 1.0 & 2.0 & 0.0 \\\\ 1.0 & 1.0 & -1.0\\end{bmatrix}, \\quad y = Ax = \\begin{bmatrix}x_1 + 2x_2\\\\x_1 + x_2-x_3\\end{bmatrix} = \\begin{bmatrix}8\\\\1\\end{bmatrix}$$\n",
        "\n",
        "$$\\frac{d y}{d x} = \\begin{bmatrix}1 & 1\\\\2 & 1 \\\\0 & -1\\end{bmatrix}^\\top \\quad \\implies grad(y,x) = \\begin{bmatrix}2\\\\3 \\\\-1\\end{bmatrix}$$"
      ]
    },
    {
      "cell_type": "code",
      "execution_count": 16,
      "metadata": {
        "colab": {
          "base_uri": "https://localhost:8080/"
        },
        "id": "u8syTA6HpzZk",
        "outputId": "cd82312b-75cb-44c7-b8ba-8bd95eadcdf4"
      },
      "outputs": [
        {
          "name": "stdout",
          "output_type": "stream",
          "text": [
            "\n",
            "x:  [[2.]\n",
            " [3.]\n",
            " [4.]]\n",
            "\n",
            "y:  [[8.]\n",
            " [1.]]\n",
            "\n",
            "grad(y,x):  [[ 2.]\n",
            " [ 3.]\n",
            " [-1.]]\n"
          ]
        }
      ],
      "source": [
        "x = tf.Variable([[2.0],[3.0],[4.0]])\n",
        "A = tf.constant([[1.0,2.0,0.0],[1.0,1.0,-1.0]])\n",
        "\n",
        "with tf.GradientTape() as tape:\n",
        "  y = tf.matmul(A,x)\n",
        "\n",
        "print('\\nx: ',x.numpy())\n",
        "print('\\ny: ',y.numpy())\n",
        "\n",
        "grad = tape.gradient(y, x)\n",
        "print('\\ngrad(y,x): ',grad.numpy())"
      ]
    },
    {
      "cell_type": "markdown",
      "metadata": {
        "id": "ePTiZ6RJvOnN"
      },
      "source": [
        "To revaluate the full Jacobian, we need to use tape.jacobian (https://www.tensorflow.org/guide/advanced_autodiff#jacobians)\n",
        "\n",
        "Note that since x in the example below is a tensor of size 3x1 and y is a tensor of size 2x1, the Jacobian is a tensor of size 2x1x3x1. "
      ]
    },
    {
      "cell_type": "code",
      "execution_count": 17,
      "metadata": {
        "colab": {
          "base_uri": "https://localhost:8080/"
        },
        "id": "lDvKdUMFz5jd",
        "outputId": "15610d34-44c3-4f70-c951-3ba030b604d4"
      },
      "outputs": [
        {
          "name": "stdout",
          "output_type": "stream",
          "text": [
            "\n",
            "x:  [[2.]\n",
            " [3.]\n",
            " [4.]]\n",
            "\n",
            "y:  [[8.]\n",
            " [1.]]\n",
            "\n",
            "dydx:  [[[[ 1.]\n",
            "   [ 2.]\n",
            "   [ 0.]]]\n",
            "\n",
            "\n",
            " [[[ 1.]\n",
            "   [ 1.]\n",
            "   [-1.]]]]\n",
            "\n",
            "dydx is a tensor of shape:  (2, 1, 3, 1)\n",
            "\n",
            "squeezed dydx:  [[ 1.  2.  0.]\n",
            " [ 1.  1. -1.]]\n"
          ]
        },
        {
          "name": "stderr",
          "output_type": "stream",
          "text": [
            "2022-11-05 10:48:17.198144: W tensorflow/core/platform/profile_utils/cpu_utils.cc:128] Failed to get CPU frequency: 0 Hz\n"
          ]
        }
      ],
      "source": [
        "x = tf.Variable([[2.0],[3.0],[4.0]])\n",
        "A = tf.constant([[1.0,2.0,0.0],[1.0,1.0,-1.0]])\n",
        "\n",
        "with tf.GradientTape() as tape:\n",
        "  y = tf.matmul(A,x)\n",
        "\n",
        "print('\\nx: ',x.numpy())\n",
        "print('\\ny: ',y.numpy())\n",
        "\n",
        "jac = tape.jacobian(y, x)\n",
        "print('\\ndydx: ',jac.numpy())\n",
        "print('\\ndydx is a tensor of shape: ',jac.shape)\n",
        "print('\\nsqueezed dydx: ',tf.squeeze(jac).numpy())"
      ]
    },
    {
      "cell_type": "markdown",
      "metadata": {
        "id": "-iJa83Yh2U7C"
      },
      "source": [
        "For an element-wise calculation, the gradient of the sum gives the derivative of each element with respect to its input-element, since each element is independent. Another way to say this is that the Jacobian is a diagonal matrix."
      ]
    },
    {
      "cell_type": "code",
      "execution_count": 19,
      "metadata": {
        "colab": {
          "base_uri": "https://localhost:8080/",
          "height": 284
        },
        "id": "ls6qAuzLVTdT",
        "outputId": "13aec7ef-6bea-4955-dac6-7270da019cf7"
      },
      "outputs": [
        {
          "data": {
            "image/svg+xml": "<?xml version=\"1.0\" encoding=\"utf-8\" standalone=\"no\"?>\n<!DOCTYPE svg PUBLIC \"-//W3C//DTD SVG 1.1//EN\"\n  \"http://www.w3.org/Graphics/SVG/1.1/DTD/svg11.dtd\">\n<svg xmlns:xlink=\"http://www.w3.org/1999/xlink\" width=\"453.6pt\" height=\"338.4pt\" viewBox=\"0 0 453.6 338.4\" xmlns=\"http://www.w3.org/2000/svg\" version=\"1.1\">\n <metadata>\n  <rdf:RDF xmlns:dc=\"http://purl.org/dc/elements/1.1/\" xmlns:cc=\"http://creativecommons.org/ns#\" xmlns:rdf=\"http://www.w3.org/1999/02/22-rdf-syntax-ns#\">\n   <cc:Work>\n    <dc:type rdf:resource=\"http://purl.org/dc/dcmitype/StillImage\"/>\n    <dc:date>2022-11-05T10:48:23.538651</dc:date>\n    <dc:format>image/svg+xml</dc:format>\n    <dc:creator>\n     <cc:Agent>\n      <dc:title>Matplotlib v3.6.1, https://matplotlib.org/</dc:title>\n     </cc:Agent>\n    </dc:creator>\n   </cc:Work>\n  </rdf:RDF>\n </metadata>\n <defs>\n  <style type=\"text/css\">*{stroke-linejoin: round; stroke-linecap: butt}</style>\n </defs>\n <g id=\"figure_1\">\n  <g id=\"patch_1\">\n   <path d=\"M 0 338.4 \nL 453.6 338.4 \nL 453.6 0 \nL 0 0 \nz\n\" style=\"fill: #ffffff\"/>\n  </g>\n  <g id=\"axes_1\">\n   <g id=\"patch_2\">\n    <path d=\"M 44.845313 296.004687 \nL 446.4 296.004687 \nL 446.4 7.2 \nL 44.845313 7.2 \nz\n\" style=\"fill: #ffffff\"/>\n   </g>\n   <g id=\"matplotlib.axis_1\">\n    <g id=\"xtick_1\">\n     <g id=\"line2d_1\">\n      <defs>\n       <path id=\"maab1f49448\" d=\"M 0 0 \nL 0 3.5 \n\" style=\"stroke: #000000; stroke-width: 0.8\"/>\n      </defs>\n      <g>\n       <use xlink:href=\"#maab1f49448\" x=\"63.097798\" y=\"296.004687\" style=\"stroke: #000000; stroke-width: 0.8\"/>\n      </g>\n     </g>\n     <g id=\"text_1\">\n      <!-- 0 -->\n      <g transform=\"translate(59.916548 310.603125) scale(0.1 -0.1)\">\n       <defs>\n        <path id=\"DejaVuSerif-30\" d=\"M 2034 219 \nQ 2513 219 2750 744 \nQ 2988 1269 2988 2328 \nQ 2988 3391 2750 3916 \nQ 2513 4441 2034 4441 \nQ 1556 4441 1318 3916 \nQ 1081 3391 1081 2328 \nQ 1081 1269 1318 744 \nQ 1556 219 2034 219 \nz\nM 2034 -91 \nQ 1275 -91 848 546 \nQ 422 1184 422 2328 \nQ 422 3475 848 4112 \nQ 1275 4750 2034 4750 \nQ 2797 4750 3222 4112 \nQ 3647 3475 3647 2328 \nQ 3647 1184 3222 546 \nQ 2797 -91 2034 -91 \nz\n\" transform=\"scale(0.015625)\"/>\n       </defs>\n       <use xlink:href=\"#DejaVuSerif-30\"/>\n      </g>\n     </g>\n    </g>\n    <g id=\"xtick_2\">\n     <g id=\"line2d_2\">\n      <g>\n       <use xlink:href=\"#maab1f49448\" x=\"121.197263\" y=\"296.004687\" style=\"stroke: #000000; stroke-width: 0.8\"/>\n      </g>\n     </g>\n     <g id=\"text_2\">\n      <!-- 2 -->\n      <g transform=\"translate(118.016013 310.603125) scale(0.1 -0.1)\">\n       <defs>\n        <path id=\"DejaVuSerif-32\" d=\"M 819 3553 \nL 469 3553 \nL 469 4384 \nQ 803 4563 1142 4656 \nQ 1481 4750 1806 4750 \nQ 2534 4750 2956 4397 \nQ 3378 4044 3378 3438 \nQ 3378 2753 2422 1800 \nQ 2347 1728 2309 1691 \nL 1131 513 \nL 3078 513 \nL 3078 1088 \nL 3444 1088 \nL 3444 0 \nL 434 0 \nL 434 341 \nL 1850 1753 \nQ 2319 2222 2519 2614 \nQ 2719 3006 2719 3438 \nQ 2719 3909 2473 4175 \nQ 2228 4441 1797 4441 \nQ 1350 4441 1106 4219 \nQ 863 3997 819 3553 \nz\n\" transform=\"scale(0.015625)\"/>\n       </defs>\n       <use xlink:href=\"#DejaVuSerif-32\"/>\n      </g>\n     </g>\n    </g>\n    <g id=\"xtick_3\">\n     <g id=\"line2d_3\">\n      <g>\n       <use xlink:href=\"#maab1f49448\" x=\"179.296729\" y=\"296.004687\" style=\"stroke: #000000; stroke-width: 0.8\"/>\n      </g>\n     </g>\n     <g id=\"text_3\">\n      <!-- 4 -->\n      <g transform=\"translate(176.115479 310.603125) scale(0.1 -0.1)\">\n       <defs>\n        <path id=\"DejaVuSerif-34\" d=\"M 2234 1581 \nL 2234 4063 \nL 641 1581 \nL 2234 1581 \nz\nM 3609 0 \nL 1484 0 \nL 1484 331 \nL 2234 331 \nL 2234 1247 \nL 197 1247 \nL 197 1588 \nL 2241 4750 \nL 2859 4750 \nL 2859 1581 \nL 3750 1581 \nL 3750 1247 \nL 2859 1247 \nL 2859 331 \nL 3609 331 \nL 3609 0 \nz\n\" transform=\"scale(0.015625)\"/>\n       </defs>\n       <use xlink:href=\"#DejaVuSerif-34\"/>\n      </g>\n     </g>\n    </g>\n    <g id=\"xtick_4\">\n     <g id=\"line2d_4\">\n      <g>\n       <use xlink:href=\"#maab1f49448\" x=\"237.396194\" y=\"296.004687\" style=\"stroke: #000000; stroke-width: 0.8\"/>\n      </g>\n     </g>\n     <g id=\"text_4\">\n      <!-- 6 -->\n      <g transform=\"translate(234.214944 310.603125) scale(0.1 -0.1)\">\n       <defs>\n        <path id=\"DejaVuSerif-36\" d=\"M 2094 219 \nQ 2534 219 2771 542 \nQ 3009 866 3009 1472 \nQ 3009 2078 2771 2401 \nQ 2534 2725 2094 2725 \nQ 1647 2725 1412 2412 \nQ 1178 2100 1178 1509 \nQ 1178 888 1415 553 \nQ 1653 219 2094 219 \nz\nM 1075 2569 \nQ 1288 2803 1556 2918 \nQ 1825 3034 2163 3034 \nQ 2859 3034 3264 2615 \nQ 3669 2197 3669 1472 \nQ 3669 763 3233 336 \nQ 2797 -91 2069 -91 \nQ 1278 -91 853 498 \nQ 428 1088 428 2181 \nQ 428 3406 931 4078 \nQ 1434 4750 2350 4750 \nQ 2597 4750 2869 4703 \nQ 3141 4656 3425 4563 \nL 3425 3794 \nL 3072 3794 \nQ 3034 4109 2831 4275 \nQ 2628 4441 2284 4441 \nQ 1678 4441 1381 3981 \nQ 1084 3522 1075 2569 \nz\n\" transform=\"scale(0.015625)\"/>\n       </defs>\n       <use xlink:href=\"#DejaVuSerif-36\"/>\n      </g>\n     </g>\n    </g>\n    <g id=\"xtick_5\">\n     <g id=\"line2d_5\">\n      <g>\n       <use xlink:href=\"#maab1f49448\" x=\"295.495659\" y=\"296.004687\" style=\"stroke: #000000; stroke-width: 0.8\"/>\n      </g>\n     </g>\n     <g id=\"text_5\">\n      <!-- 8 -->\n      <g transform=\"translate(292.314409 310.603125) scale(0.1 -0.1)\">\n       <defs>\n        <path id=\"DejaVuSerif-38\" d=\"M 2981 1275 \nQ 2981 1775 2732 2051 \nQ 2484 2328 2034 2328 \nQ 1584 2328 1336 2051 \nQ 1088 1775 1088 1275 \nQ 1088 772 1336 495 \nQ 1584 219 2034 219 \nQ 2484 219 2732 495 \nQ 2981 772 2981 1275 \nz\nM 2853 3541 \nQ 2853 3966 2637 4203 \nQ 2422 4441 2034 4441 \nQ 1650 4441 1433 4203 \nQ 1216 3966 1216 3541 \nQ 1216 3113 1433 2875 \nQ 1650 2638 2034 2638 \nQ 2422 2638 2637 2875 \nQ 2853 3113 2853 3541 \nz\nM 2516 2484 \nQ 3047 2413 3344 2092 \nQ 3641 1772 3641 1275 \nQ 3641 619 3225 264 \nQ 2809 -91 2034 -91 \nQ 1263 -91 845 264 \nQ 428 619 428 1275 \nQ 428 1772 725 2092 \nQ 1022 2413 1556 2484 \nQ 1084 2569 832 2842 \nQ 581 3116 581 3541 \nQ 581 4103 968 4426 \nQ 1356 4750 2034 4750 \nQ 2713 4750 3100 4426 \nQ 3488 4103 3488 3541 \nQ 3488 3116 3236 2842 \nQ 2984 2569 2516 2484 \nz\n\" transform=\"scale(0.015625)\"/>\n       </defs>\n       <use xlink:href=\"#DejaVuSerif-38\"/>\n      </g>\n     </g>\n    </g>\n    <g id=\"xtick_6\">\n     <g id=\"line2d_6\">\n      <g>\n       <use xlink:href=\"#maab1f49448\" x=\"353.595124\" y=\"296.004687\" style=\"stroke: #000000; stroke-width: 0.8\"/>\n      </g>\n     </g>\n     <g id=\"text_6\">\n      <!-- 10 -->\n      <g transform=\"translate(347.232624 310.603125) scale(0.1 -0.1)\">\n       <defs>\n        <path id=\"DejaVuSerif-31\" d=\"M 909 0 \nL 909 331 \nL 1722 331 \nL 1722 4213 \nL 781 3603 \nL 781 4013 \nL 1919 4750 \nL 2350 4750 \nL 2350 331 \nL 3163 331 \nL 3163 0 \nL 909 0 \nz\n\" transform=\"scale(0.015625)\"/>\n       </defs>\n       <use xlink:href=\"#DejaVuSerif-31\"/>\n       <use xlink:href=\"#DejaVuSerif-30\" x=\"63.623047\"/>\n      </g>\n     </g>\n    </g>\n    <g id=\"xtick_7\">\n     <g id=\"line2d_7\">\n      <g>\n       <use xlink:href=\"#maab1f49448\" x=\"411.694589\" y=\"296.004687\" style=\"stroke: #000000; stroke-width: 0.8\"/>\n      </g>\n     </g>\n     <g id=\"text_7\">\n      <!-- 12 -->\n      <g transform=\"translate(405.332089 310.603125) scale(0.1 -0.1)\">\n       <use xlink:href=\"#DejaVuSerif-31\"/>\n       <use xlink:href=\"#DejaVuSerif-32\" x=\"63.623047\"/>\n      </g>\n     </g>\n    </g>\n    <g id=\"text_8\">\n     <!-- x -->\n     <g transform=\"translate(241.393359 328.080469) scale(0.15 -0.15)\">\n      <defs>\n       <path id=\"DejaVuSerif-78\" d=\"M 1863 2028 \nL 2559 2988 \nL 2113 2988 \nL 2113 3322 \nL 3391 3322 \nL 3391 2988 \nL 2950 2988 \nL 2059 1759 \nL 3097 331 \nL 3531 331 \nL 3531 0 \nL 1997 0 \nL 1997 331 \nL 2419 331 \nL 1697 1325 \nL 972 331 \nL 1403 331 \nL 1403 0 \nL 141 0 \nL 141 331 \nL 581 331 \nL 1497 1594 \nL 488 2988 \nL 78 2988 \nL 78 3322 \nL 1563 3322 \nL 1563 2988 \nL 1166 2988 \nL 1863 2028 \nz\n\" transform=\"scale(0.015625)\"/>\n      </defs>\n      <use xlink:href=\"#DejaVuSerif-78\"/>\n     </g>\n    </g>\n   </g>\n   <g id=\"matplotlib.axis_2\">\n    <g id=\"ytick_1\">\n     <g id=\"line2d_8\">\n      <defs>\n       <path id=\"medf154342c\" d=\"M 0 0 \nL -3.5 0 \n\" style=\"stroke: #000000; stroke-width: 0.8\"/>\n      </defs>\n      <g>\n       <use xlink:href=\"#medf154342c\" x=\"44.845313\" y=\"282.893728\" style=\"stroke: #000000; stroke-width: 0.8\"/>\n      </g>\n     </g>\n     <g id=\"text_9\">\n      <!-- −1.00 -->\n      <g transform=\"translate(7.2 286.692947) scale(0.1 -0.1)\">\n       <defs>\n        <path id=\"DejaVuSerif-2212\" d=\"M 678 2259 \nL 4684 2259 \nL 4684 1753 \nL 678 1753 \nL 678 2259 \nz\n\" transform=\"scale(0.015625)\"/>\n        <path id=\"DejaVuSerif-2e\" d=\"M 603 325 \nQ 603 500 722 622 \nQ 841 744 1019 744 \nQ 1191 744 1312 622 \nQ 1434 500 1434 325 \nQ 1434 153 1312 31 \nQ 1191 -91 1019 -91 \nQ 841 -91 722 29 \nQ 603 150 603 325 \nz\n\" transform=\"scale(0.015625)\"/>\n       </defs>\n       <use xlink:href=\"#DejaVuSerif-2212\"/>\n       <use xlink:href=\"#DejaVuSerif-31\" x=\"83.789062\"/>\n       <use xlink:href=\"#DejaVuSerif-2e\" x=\"147.412109\"/>\n       <use xlink:href=\"#DejaVuSerif-30\" x=\"179.199219\"/>\n       <use xlink:href=\"#DejaVuSerif-30\" x=\"242.822266\"/>\n      </g>\n     </g>\n    </g>\n    <g id=\"ytick_2\">\n     <g id=\"line2d_9\">\n      <g>\n       <use xlink:href=\"#medf154342c\" x=\"44.845313\" y=\"250.072948\" style=\"stroke: #000000; stroke-width: 0.8\"/>\n      </g>\n     </g>\n     <g id=\"text_10\">\n      <!-- −0.75 -->\n      <g transform=\"translate(7.2 253.872167) scale(0.1 -0.1)\">\n       <defs>\n        <path id=\"DejaVuSerif-37\" d=\"M 3609 4347 \nL 1784 0 \nL 1319 0 \nL 3059 4153 \nL 903 4153 \nL 903 3578 \nL 538 3578 \nL 538 4666 \nL 3609 4666 \nL 3609 4347 \nz\n\" transform=\"scale(0.015625)\"/>\n        <path id=\"DejaVuSerif-35\" d=\"M 3219 4666 \nL 3219 4153 \nL 1081 4153 \nL 1081 2816 \nQ 1244 2928 1461 2984 \nQ 1678 3041 1947 3041 \nQ 2703 3041 3140 2622 \nQ 3578 2203 3578 1478 \nQ 3578 738 3136 323 \nQ 2694 -91 1894 -91 \nQ 1572 -91 1234 -12 \nQ 897 66 544 225 \nL 544 1131 \nL 897 1131 \nQ 925 688 1179 453 \nQ 1434 219 1894 219 \nQ 2388 219 2653 544 \nQ 2919 869 2919 1478 \nQ 2919 2084 2655 2407 \nQ 2391 2731 1894 2731 \nQ 1613 2731 1398 2631 \nQ 1184 2531 1019 2322 \nL 750 2322 \nL 750 4666 \nL 3219 4666 \nz\n\" transform=\"scale(0.015625)\"/>\n       </defs>\n       <use xlink:href=\"#DejaVuSerif-2212\"/>\n       <use xlink:href=\"#DejaVuSerif-30\" x=\"83.789062\"/>\n       <use xlink:href=\"#DejaVuSerif-2e\" x=\"147.412109\"/>\n       <use xlink:href=\"#DejaVuSerif-37\" x=\"179.199219\"/>\n       <use xlink:href=\"#DejaVuSerif-35\" x=\"242.822266\"/>\n      </g>\n     </g>\n    </g>\n    <g id=\"ytick_3\">\n     <g id=\"line2d_10\">\n      <g>\n       <use xlink:href=\"#medf154342c\" x=\"44.845313\" y=\"217.252168\" style=\"stroke: #000000; stroke-width: 0.8\"/>\n      </g>\n     </g>\n     <g id=\"text_11\">\n      <!-- −0.50 -->\n      <g transform=\"translate(7.2 221.051386) scale(0.1 -0.1)\">\n       <use xlink:href=\"#DejaVuSerif-2212\"/>\n       <use xlink:href=\"#DejaVuSerif-30\" x=\"83.789062\"/>\n       <use xlink:href=\"#DejaVuSerif-2e\" x=\"147.412109\"/>\n       <use xlink:href=\"#DejaVuSerif-35\" x=\"179.199219\"/>\n       <use xlink:href=\"#DejaVuSerif-30\" x=\"242.822266\"/>\n      </g>\n     </g>\n    </g>\n    <g id=\"ytick_4\">\n     <g id=\"line2d_11\">\n      <g>\n       <use xlink:href=\"#medf154342c\" x=\"44.845313\" y=\"184.431387\" style=\"stroke: #000000; stroke-width: 0.8\"/>\n      </g>\n     </g>\n     <g id=\"text_12\">\n      <!-- −0.25 -->\n      <g transform=\"translate(7.2 188.230606) scale(0.1 -0.1)\">\n       <use xlink:href=\"#DejaVuSerif-2212\"/>\n       <use xlink:href=\"#DejaVuSerif-30\" x=\"83.789062\"/>\n       <use xlink:href=\"#DejaVuSerif-2e\" x=\"147.412109\"/>\n       <use xlink:href=\"#DejaVuSerif-32\" x=\"179.199219\"/>\n       <use xlink:href=\"#DejaVuSerif-35\" x=\"242.822266\"/>\n      </g>\n     </g>\n    </g>\n    <g id=\"ytick_5\">\n     <g id=\"line2d_12\">\n      <g>\n       <use xlink:href=\"#medf154342c\" x=\"44.845313\" y=\"151.610607\" style=\"stroke: #000000; stroke-width: 0.8\"/>\n      </g>\n     </g>\n     <g id=\"text_13\">\n      <!-- 0.00 -->\n      <g transform=\"translate(15.579688 155.409826) scale(0.1 -0.1)\">\n       <use xlink:href=\"#DejaVuSerif-30\"/>\n       <use xlink:href=\"#DejaVuSerif-2e\" x=\"63.623047\"/>\n       <use xlink:href=\"#DejaVuSerif-30\" x=\"95.410156\"/>\n       <use xlink:href=\"#DejaVuSerif-30\" x=\"159.033203\"/>\n      </g>\n     </g>\n    </g>\n    <g id=\"ytick_6\">\n     <g id=\"line2d_13\">\n      <g>\n       <use xlink:href=\"#medf154342c\" x=\"44.845313\" y=\"118.789827\" style=\"stroke: #000000; stroke-width: 0.8\"/>\n      </g>\n     </g>\n     <g id=\"text_14\">\n      <!-- 0.25 -->\n      <g transform=\"translate(15.579688 122.589045) scale(0.1 -0.1)\">\n       <use xlink:href=\"#DejaVuSerif-30\"/>\n       <use xlink:href=\"#DejaVuSerif-2e\" x=\"63.623047\"/>\n       <use xlink:href=\"#DejaVuSerif-32\" x=\"95.410156\"/>\n       <use xlink:href=\"#DejaVuSerif-35\" x=\"159.033203\"/>\n      </g>\n     </g>\n    </g>\n    <g id=\"ytick_7\">\n     <g id=\"line2d_14\">\n      <g>\n       <use xlink:href=\"#medf154342c\" x=\"44.845313\" y=\"85.969046\" style=\"stroke: #000000; stroke-width: 0.8\"/>\n      </g>\n     </g>\n     <g id=\"text_15\">\n      <!-- 0.50 -->\n      <g transform=\"translate(15.579688 89.768265) scale(0.1 -0.1)\">\n       <use xlink:href=\"#DejaVuSerif-30\"/>\n       <use xlink:href=\"#DejaVuSerif-2e\" x=\"63.623047\"/>\n       <use xlink:href=\"#DejaVuSerif-35\" x=\"95.410156\"/>\n       <use xlink:href=\"#DejaVuSerif-30\" x=\"159.033203\"/>\n      </g>\n     </g>\n    </g>\n    <g id=\"ytick_8\">\n     <g id=\"line2d_15\">\n      <g>\n       <use xlink:href=\"#medf154342c\" x=\"44.845313\" y=\"53.148266\" style=\"stroke: #000000; stroke-width: 0.8\"/>\n      </g>\n     </g>\n     <g id=\"text_16\">\n      <!-- 0.75 -->\n      <g transform=\"translate(15.579688 56.947485) scale(0.1 -0.1)\">\n       <use xlink:href=\"#DejaVuSerif-30\"/>\n       <use xlink:href=\"#DejaVuSerif-2e\" x=\"63.623047\"/>\n       <use xlink:href=\"#DejaVuSerif-37\" x=\"95.410156\"/>\n       <use xlink:href=\"#DejaVuSerif-35\" x=\"159.033203\"/>\n      </g>\n     </g>\n    </g>\n    <g id=\"ytick_9\">\n     <g id=\"line2d_16\">\n      <g>\n       <use xlink:href=\"#medf154342c\" x=\"44.845313\" y=\"20.327486\" style=\"stroke: #000000; stroke-width: 0.8\"/>\n      </g>\n     </g>\n     <g id=\"text_17\">\n      <!-- 1.00 -->\n      <g transform=\"translate(15.579688 24.126705) scale(0.1 -0.1)\">\n       <use xlink:href=\"#DejaVuSerif-31\"/>\n       <use xlink:href=\"#DejaVuSerif-2e\" x=\"63.623047\"/>\n       <use xlink:href=\"#DejaVuSerif-30\" x=\"95.410156\"/>\n       <use xlink:href=\"#DejaVuSerif-30\" x=\"159.033203\"/>\n      </g>\n     </g>\n    </g>\n   </g>\n   <g id=\"line2d_17\">\n    <path d=\"M 63.097798 151.610607 \nL 66.785169 134.991154 \nL 70.47254 118.639116 \nL 74.159911 102.817598 \nL 77.847282 87.781179 \nL 81.534652 73.771799 \nL 85.222023 61.014878 \nL 88.909394 49.715676 \nL 92.596765 40.056001 \nL 96.284137 32.191275 \nL 99.971506 26.248062 \nL 103.658876 22.321974 \nL 107.346248 20.476186 \nL 111.033621 20.7404 \nL 114.72099 23.110367 \nL 118.408359 27.547949 \nL 122.095731 33.981748 \nL 125.783104 42.308248 \nL 129.470476 52.393459 \nL 133.157842 64.075088 \nL 136.845215 77.165217 \nL 140.532587 91.453209 \nL 144.219953 106.709126 \nL 147.907325 122.68755 \nL 151.594698 139.131359 \nL 155.28207 155.775962 \nL 158.969443 172.353545 \nL 162.656809 188.597337 \nL 166.344181 204.246025 \nL 170.031554 219.04779 \nL 173.718919 232.764442 \nL 177.406292 245.175322 \nL 181.093664 256.080711 \nL 184.781037 265.305131 \nL 188.468409 272.700164 \nL 192.155782 278.146821 \nL 195.843155 281.557462 \nL 199.530513 282.877202 \nL 203.217886 282.084826 \nL 206.905258 279.193066 \nL 210.592631 274.24845 \nL 214.280003 267.330552 \nL 217.967376 258.550667 \nL 221.654749 248.050078 \nL 225.342107 235.99779 \nL 229.02948 222.587631 \nL 232.716852 208.035428 \nL 236.404225 192.575328 \nL 240.091597 176.456089 \nL 243.77897 159.937079 \nL 247.466343 143.284091 \nL 251.153715 126.765078 \nL 254.841088 110.645839 \nL 258.528446 95.185798 \nL 262.215819 80.633599 \nL 265.903191 67.22344 \nL 269.590564 55.171105 \nL 273.277936 44.670523 \nL 276.965309 35.890646 \nL 280.652682 28.972748 \nL 284.34004 24.028156 \nL 288.027413 21.136396 \nL 291.714785 20.344012 \nL 295.402158 21.66376 \nL 299.08953 25.074401 \nL 302.776903 30.521066 \nL 306.464276 37.916107 \nL 310.151648 47.140535 \nL 313.839021 58.045923 \nL 317.526393 70.456804 \nL 321.213766 84.173487 \nL 324.901138 98.975259 \nL 328.588511 114.623956 \nL 332.275856 130.867654 \nL 335.963228 147.445235 \nL 339.650601 164.089838 \nL 343.337973 180.533649 \nL 347.025346 196.512073 \nL 350.712718 211.768016 \nL 354.400091 226.056005 \nL 358.087464 239.146134 \nL 361.774836 250.827787 \nL 365.462209 260.912997 \nL 369.149581 269.239481 \nL 372.836954 275.673281 \nL 376.524326 280.110862 \nL 380.211699 282.480822 \nL 383.899071 282.745028 \nL 387.586416 280.899247 \nL 391.273789 276.97316 \nL 394.961161 271.029947 \nL 398.648534 263.165221 \nL 402.335906 253.505546 \nL 406.023279 242.206336 \nL 409.710651 229.449407 \nL 413.398024 215.440019 \nL 417.085397 200.403592 \nL 420.772769 184.582067 \nL 424.460142 168.230023 \nL 428.147514 151.610561 \n\" clip-path=\"url(#p52b1b7244d)\" style=\"fill: none; stroke: #1f77b4; stroke-width: 1.5; stroke-linecap: square\"/>\n   </g>\n   <g id=\"line2d_18\">\n    <path d=\"M 63.097798 20.327486 \nL 66.785169 21.383684 \nL 70.47254 24.535284 \nL 74.159911 29.73157 \nL 77.847282 36.888931 \nL 81.534652 45.892215 \nL 85.222023 56.596546 \nL 88.909394 68.829687 \nL 92.596765 82.394806 \nL 96.284137 97.073635 \nL 99.971506 112.629976 \nL 103.658876 128.813526 \nL 107.346248 145.363908 \nL 111.033621 162.014799 \nL 114.72099 178.498268 \nL 118.408359 194.549103 \nL 122.095731 209.909058 \nL 125.783104 224.330973 \nL 129.470476 237.582784 \nL 133.157842 249.451245 \nL 136.845215 259.74544 \nL 140.532587 268.299704 \nL 144.219953 274.976387 \nL 147.907325 279.668072 \nL 151.594698 282.299272 \nL 155.28207 282.82763 \nL 158.969443 281.244662 \nL 162.656809 277.57584 \nL 166.344181 271.880181 \nL 170.031554 264.249339 \nL 173.718919 254.806122 \nL 177.406292 243.702422 \nL 181.093664 231.116933 \nL 184.781037 217.252156 \nL 188.468409 202.33118 \nL 192.155782 186.594092 \nL 195.843155 170.294104 \nL 199.530513 153.693556 \nL 203.217886 137.059428 \nL 206.905258 120.659437 \nL 210.592631 104.757464 \nL 214.280003 89.609373 \nL 217.967376 75.458902 \nL 221.654749 62.53375 \nL 225.342107 51.041918 \nL 229.02948 41.168227 \nL 232.716852 33.071597 \nL 236.404225 26.8823 \nL 240.091597 22.699942 \nL 243.77897 20.591801 \nL 247.466343 20.591801 \nL 251.153715 22.699949 \nL 254.841088 26.882316 \nL 258.528446 33.071589 \nL 262.215819 41.168219 \nL 265.903191 51.041902 \nL 269.590564 62.533789 \nL 273.277936 75.458942 \nL 276.965309 89.609412 \nL 280.652682 104.757503 \nL 284.34004 120.659421 \nL 288.027413 137.059412 \nL 291.714785 153.693539 \nL 295.402158 170.294151 \nL 299.08953 186.594135 \nL 302.776903 202.33122 \nL 306.464276 217.252199 \nL 310.151648 231.116972 \nL 313.839021 243.702453 \nL 317.526393 254.806138 \nL 321.213766 264.249378 \nL 324.901138 271.880212 \nL 328.588511 277.575864 \nL 332.275856 281.244662 \nL 335.963228 282.82763 \nL 339.650601 282.299272 \nL 343.337973 279.66808 \nL 347.025346 274.976387 \nL 350.712718 268.299697 \nL 354.400091 259.745432 \nL 358.087464 249.451237 \nL 361.774836 237.582745 \nL 365.462209 224.330934 \nL 369.149581 209.909019 \nL 372.836954 194.549064 \nL 376.524326 178.498207 \nL 380.211699 162.014723 \nL 383.899071 145.36383 \nL 387.586416 128.813573 \nL 391.273789 112.630007 \nL 394.961161 97.073654 \nL 398.648534 82.394822 \nL 402.335906 68.829695 \nL 406.023279 56.596546 \nL 409.710651 45.892207 \nL 413.398024 36.888924 \nL 417.085397 29.731562 \nL 420.772769 24.535276 \nL 424.460142 21.383676 \nL 428.147514 20.327486 \n\" clip-path=\"url(#p52b1b7244d)\" style=\"fill: none; stroke: #ff7f0e; stroke-width: 1.5; stroke-linecap: square\"/>\n   </g>\n   <g id=\"patch_3\">\n    <path d=\"M 44.845313 296.004687 \nL 44.845313 7.2 \n\" style=\"fill: none; stroke: #000000; stroke-width: 0.8; stroke-linejoin: miter; stroke-linecap: square\"/>\n   </g>\n   <g id=\"patch_4\">\n    <path d=\"M 446.4 296.004687 \nL 446.4 7.2 \n\" style=\"fill: none; stroke: #000000; stroke-width: 0.8; stroke-linejoin: miter; stroke-linecap: square\"/>\n   </g>\n   <g id=\"patch_5\">\n    <path d=\"M 44.845313 296.004687 \nL 446.4 296.004687 \n\" style=\"fill: none; stroke: #000000; stroke-width: 0.8; stroke-linejoin: miter; stroke-linecap: square\"/>\n   </g>\n   <g id=\"patch_6\">\n    <path d=\"M 44.845313 7.2 \nL 446.4 7.2 \n\" style=\"fill: none; stroke: #000000; stroke-width: 0.8; stroke-linejoin: miter; stroke-linecap: square\"/>\n   </g>\n   <g id=\"legend_1\">\n    <g id=\"patch_7\">\n     <path d=\"M 55.345313 288.504687 \nL 144.536719 288.504687 \nQ 147.536719 288.504687 147.536719 285.504687 \nL 147.536719 242.54375 \nQ 147.536719 239.54375 144.536719 239.54375 \nL 55.345313 239.54375 \nQ 52.345313 239.54375 52.345313 242.54375 \nL 52.345313 285.504687 \nQ 52.345313 288.504687 55.345313 288.504687 \nz\n\" style=\"fill: #ffffff; opacity: 0.8; stroke: #cccccc; stroke-linejoin: miter\"/>\n    </g>\n    <g id=\"line2d_19\">\n     <path d=\"M 58.345313 251.691406 \nL 73.345313 251.691406 \nL 88.345313 251.691406 \n\" style=\"fill: none; stroke: #1f77b4; stroke-width: 1.5; stroke-linecap: square\"/>\n    </g>\n    <g id=\"text_18\">\n     <!-- y -->\n     <g transform=\"translate(100.345313 256.941406) scale(0.15 -0.15)\">\n      <defs>\n       <path id=\"DejaVuSerif-79\" d=\"M 1381 -609 \nL 1600 -56 \nL 359 2988 \nL -19 2988 \nL -19 3322 \nL 1509 3322 \nL 1509 2988 \nL 978 2988 \nL 1913 703 \nL 2847 2988 \nL 2350 2988 \nL 2350 3322 \nL 3597 3322 \nL 3597 2988 \nL 3225 2988 \nL 1703 -750 \nQ 1547 -1138 1356 -1280 \nQ 1166 -1422 819 -1422 \nQ 672 -1422 517 -1397 \nQ 363 -1372 206 -1325 \nL 206 -691 \nL 500 -691 \nQ 519 -903 608 -995 \nQ 697 -1088 884 -1088 \nQ 1056 -1088 1161 -992 \nQ 1266 -897 1381 -609 \nz\n\" transform=\"scale(0.015625)\"/>\n      </defs>\n      <use xlink:href=\"#DejaVuSerif-79\"/>\n     </g>\n    </g>\n    <g id=\"line2d_20\">\n     <path d=\"M 58.345313 273.921875 \nL 73.345313 273.921875 \nL 88.345313 273.921875 \n\" style=\"fill: none; stroke: #ff7f0e; stroke-width: 1.5; stroke-linecap: square\"/>\n    </g>\n    <g id=\"text_19\">\n     <!-- dy/dx -->\n     <g transform=\"translate(100.345313 279.171875) scale(0.15 -0.15)\">\n      <defs>\n       <path id=\"DejaVuSerif-64\" d=\"M 3359 331 \nL 3909 331 \nL 3909 0 \nL 2784 0 \nL 2784 519 \nQ 2616 206 2355 57 \nQ 2094 -91 1709 -91 \nQ 1097 -91 708 395 \nQ 319 881 319 1663 \nQ 319 2444 706 2928 \nQ 1094 3413 1709 3413 \nQ 2094 3413 2355 3264 \nQ 2616 3116 2784 2803 \nL 2784 4531 \nL 2241 4531 \nL 2241 4863 \nL 3359 4863 \nL 3359 331 \nz\nM 2784 1497 \nL 2784 1825 \nQ 2784 2422 2554 2737 \nQ 2325 3053 1888 3053 \nQ 1444 3053 1217 2703 \nQ 991 2353 991 1663 \nQ 991 975 1217 622 \nQ 1444 269 1888 269 \nQ 2325 269 2554 583 \nQ 2784 897 2784 1497 \nz\n\" transform=\"scale(0.015625)\"/>\n       <path id=\"DejaVuSerif-2f\" d=\"M 1656 4666 \nL 2156 4666 \nL 500 -594 \nL 0 -594 \nL 1656 4666 \nz\n\" transform=\"scale(0.015625)\"/>\n      </defs>\n      <use xlink:href=\"#DejaVuSerif-64\"/>\n      <use xlink:href=\"#DejaVuSerif-79\" x=\"64.013672\"/>\n      <use xlink:href=\"#DejaVuSerif-2f\" x=\"120.507812\"/>\n      <use xlink:href=\"#DejaVuSerif-64\" x=\"154.199219\"/>\n      <use xlink:href=\"#DejaVuSerif-78\" x=\"218.212891\"/>\n     </g>\n    </g>\n   </g>\n  </g>\n </g>\n <defs>\n  <clipPath id=\"p52b1b7244d\">\n   <rect x=\"44.845313\" y=\"7.2\" width=\"401.554688\" height=\"288.804688\"/>\n  </clipPath>\n </defs>\n</svg>\n",
            "text/plain": [
              "<Figure size 640x480 with 1 Axes>"
            ]
          },
          "metadata": {},
          "output_type": "display_data"
        }
      ],
      "source": [
        "x = tf.linspace(0.0, 4*np.pi, 100)\n",
        "\n",
        "with tf.GradientTape() as tape:\n",
        "    tape.watch(x)\n",
        "    y = tf.math.sin(x)\n",
        "\n",
        "dy_dx = tape.gradient(y,x)\n",
        "\n",
        "plt.plot(x, y, label='y')\n",
        "plt.plot(x, dy_dx, label='dy/dx')\n",
        "plt.legend(loc='lower left',fontsize=15);\n",
        "plt.xlabel('x',fontsize=15);"
      ]
    },
    {
      "cell_type": "markdown",
      "metadata": {
        "id": "dTDvLkRc7X-1"
      },
      "source": [
        "### Gradients of ReLU"
      ]
    },
    {
      "cell_type": "code",
      "execution_count": 20,
      "metadata": {
        "colab": {
          "base_uri": "https://localhost:8080/",
          "height": 284
        },
        "id": "xPAwSAmn61mO",
        "outputId": "44e4a45f-2d05-4cb1-ed7e-0928c1cdc25c"
      },
      "outputs": [
        {
          "data": {
            "image/svg+xml": "<?xml version=\"1.0\" encoding=\"utf-8\" standalone=\"no\"?>\n<!DOCTYPE svg PUBLIC \"-//W3C//DTD SVG 1.1//EN\"\n  \"http://www.w3.org/Graphics/SVG/1.1/DTD/svg11.dtd\">\n<svg xmlns:xlink=\"http://www.w3.org/1999/xlink\" width=\"453.6pt\" height=\"338.4pt\" viewBox=\"0 0 453.6 338.4\" xmlns=\"http://www.w3.org/2000/svg\" version=\"1.1\">\n <metadata>\n  <rdf:RDF xmlns:dc=\"http://purl.org/dc/elements/1.1/\" xmlns:cc=\"http://creativecommons.org/ns#\" xmlns:rdf=\"http://www.w3.org/1999/02/22-rdf-syntax-ns#\">\n   <cc:Work>\n    <dc:type rdf:resource=\"http://purl.org/dc/dcmitype/StillImage\"/>\n    <dc:date>2022-11-05T10:48:28.550320</dc:date>\n    <dc:format>image/svg+xml</dc:format>\n    <dc:creator>\n     <cc:Agent>\n      <dc:title>Matplotlib v3.6.1, https://matplotlib.org/</dc:title>\n     </cc:Agent>\n    </dc:creator>\n   </cc:Work>\n  </rdf:RDF>\n </metadata>\n <defs>\n  <style type=\"text/css\">*{stroke-linejoin: round; stroke-linecap: butt}</style>\n </defs>\n <g id=\"figure_1\">\n  <g id=\"patch_1\">\n   <path d=\"M 0 338.4 \nL 453.6 338.4 \nL 453.6 0 \nL 0 0 \nz\n\" style=\"fill: #ffffff\"/>\n  </g>\n  <g id=\"axes_1\">\n   <g id=\"patch_2\">\n    <path d=\"M 30.103125 296.004687 \nL 446.4 296.004687 \nL 446.4 7.2 \nL 30.103125 7.2 \nz\n\" style=\"fill: #ffffff\"/>\n   </g>\n   <g id=\"matplotlib.axis_1\">\n    <g id=\"xtick_1\">\n     <g id=\"line2d_1\">\n      <defs>\n       <path id=\"m77759b3265\" d=\"M 0 0 \nL 0 3.5 \n\" style=\"stroke: #000000; stroke-width: 0.8\"/>\n      </defs>\n      <g>\n       <use xlink:href=\"#m77759b3265\" x=\"49.02571\" y=\"296.004687\" style=\"stroke: #000000; stroke-width: 0.8\"/>\n      </g>\n     </g>\n     <g id=\"text_1\">\n      <!-- −1.00 -->\n      <g transform=\"translate(33.703054 310.603125) scale(0.1 -0.1)\">\n       <defs>\n        <path id=\"DejaVuSerif-2212\" d=\"M 678 2259 \nL 4684 2259 \nL 4684 1753 \nL 678 1753 \nL 678 2259 \nz\n\" transform=\"scale(0.015625)\"/>\n        <path id=\"DejaVuSerif-31\" d=\"M 909 0 \nL 909 331 \nL 1722 331 \nL 1722 4213 \nL 781 3603 \nL 781 4013 \nL 1919 4750 \nL 2350 4750 \nL 2350 331 \nL 3163 331 \nL 3163 0 \nL 909 0 \nz\n\" transform=\"scale(0.015625)\"/>\n        <path id=\"DejaVuSerif-2e\" d=\"M 603 325 \nQ 603 500 722 622 \nQ 841 744 1019 744 \nQ 1191 744 1312 622 \nQ 1434 500 1434 325 \nQ 1434 153 1312 31 \nQ 1191 -91 1019 -91 \nQ 841 -91 722 29 \nQ 603 150 603 325 \nz\n\" transform=\"scale(0.015625)\"/>\n        <path id=\"DejaVuSerif-30\" d=\"M 2034 219 \nQ 2513 219 2750 744 \nQ 2988 1269 2988 2328 \nQ 2988 3391 2750 3916 \nQ 2513 4441 2034 4441 \nQ 1556 4441 1318 3916 \nQ 1081 3391 1081 2328 \nQ 1081 1269 1318 744 \nQ 1556 219 2034 219 \nz\nM 2034 -91 \nQ 1275 -91 848 546 \nQ 422 1184 422 2328 \nQ 422 3475 848 4112 \nQ 1275 4750 2034 4750 \nQ 2797 4750 3222 4112 \nQ 3647 3475 3647 2328 \nQ 3647 1184 3222 546 \nQ 2797 -91 2034 -91 \nz\n\" transform=\"scale(0.015625)\"/>\n       </defs>\n       <use xlink:href=\"#DejaVuSerif-2212\"/>\n       <use xlink:href=\"#DejaVuSerif-31\" x=\"83.789062\"/>\n       <use xlink:href=\"#DejaVuSerif-2e\" x=\"147.412109\"/>\n       <use xlink:href=\"#DejaVuSerif-30\" x=\"179.199219\"/>\n       <use xlink:href=\"#DejaVuSerif-30\" x=\"242.822266\"/>\n      </g>\n     </g>\n    </g>\n    <g id=\"xtick_2\">\n     <g id=\"line2d_2\">\n      <g>\n       <use xlink:href=\"#m77759b3265\" x=\"96.332173\" y=\"296.004687\" style=\"stroke: #000000; stroke-width: 0.8\"/>\n      </g>\n     </g>\n     <g id=\"text_2\">\n      <!-- −0.75 -->\n      <g transform=\"translate(81.009517 310.603125) scale(0.1 -0.1)\">\n       <defs>\n        <path id=\"DejaVuSerif-37\" d=\"M 3609 4347 \nL 1784 0 \nL 1319 0 \nL 3059 4153 \nL 903 4153 \nL 903 3578 \nL 538 3578 \nL 538 4666 \nL 3609 4666 \nL 3609 4347 \nz\n\" transform=\"scale(0.015625)\"/>\n        <path id=\"DejaVuSerif-35\" d=\"M 3219 4666 \nL 3219 4153 \nL 1081 4153 \nL 1081 2816 \nQ 1244 2928 1461 2984 \nQ 1678 3041 1947 3041 \nQ 2703 3041 3140 2622 \nQ 3578 2203 3578 1478 \nQ 3578 738 3136 323 \nQ 2694 -91 1894 -91 \nQ 1572 -91 1234 -12 \nQ 897 66 544 225 \nL 544 1131 \nL 897 1131 \nQ 925 688 1179 453 \nQ 1434 219 1894 219 \nQ 2388 219 2653 544 \nQ 2919 869 2919 1478 \nQ 2919 2084 2655 2407 \nQ 2391 2731 1894 2731 \nQ 1613 2731 1398 2631 \nQ 1184 2531 1019 2322 \nL 750 2322 \nL 750 4666 \nL 3219 4666 \nz\n\" transform=\"scale(0.015625)\"/>\n       </defs>\n       <use xlink:href=\"#DejaVuSerif-2212\"/>\n       <use xlink:href=\"#DejaVuSerif-30\" x=\"83.789062\"/>\n       <use xlink:href=\"#DejaVuSerif-2e\" x=\"147.412109\"/>\n       <use xlink:href=\"#DejaVuSerif-37\" x=\"179.199219\"/>\n       <use xlink:href=\"#DejaVuSerif-35\" x=\"242.822266\"/>\n      </g>\n     </g>\n    </g>\n    <g id=\"xtick_3\">\n     <g id=\"line2d_3\">\n      <g>\n       <use xlink:href=\"#m77759b3265\" x=\"143.638636\" y=\"296.004687\" style=\"stroke: #000000; stroke-width: 0.8\"/>\n      </g>\n     </g>\n     <g id=\"text_3\">\n      <!-- −0.50 -->\n      <g transform=\"translate(128.31598 310.603125) scale(0.1 -0.1)\">\n       <use xlink:href=\"#DejaVuSerif-2212\"/>\n       <use xlink:href=\"#DejaVuSerif-30\" x=\"83.789062\"/>\n       <use xlink:href=\"#DejaVuSerif-2e\" x=\"147.412109\"/>\n       <use xlink:href=\"#DejaVuSerif-35\" x=\"179.199219\"/>\n       <use xlink:href=\"#DejaVuSerif-30\" x=\"242.822266\"/>\n      </g>\n     </g>\n    </g>\n    <g id=\"xtick_4\">\n     <g id=\"line2d_4\">\n      <g>\n       <use xlink:href=\"#m77759b3265\" x=\"190.945099\" y=\"296.004687\" style=\"stroke: #000000; stroke-width: 0.8\"/>\n      </g>\n     </g>\n     <g id=\"text_4\">\n      <!-- −0.25 -->\n      <g transform=\"translate(175.622443 310.603125) scale(0.1 -0.1)\">\n       <defs>\n        <path id=\"DejaVuSerif-32\" d=\"M 819 3553 \nL 469 3553 \nL 469 4384 \nQ 803 4563 1142 4656 \nQ 1481 4750 1806 4750 \nQ 2534 4750 2956 4397 \nQ 3378 4044 3378 3438 \nQ 3378 2753 2422 1800 \nQ 2347 1728 2309 1691 \nL 1131 513 \nL 3078 513 \nL 3078 1088 \nL 3444 1088 \nL 3444 0 \nL 434 0 \nL 434 341 \nL 1850 1753 \nQ 2319 2222 2519 2614 \nQ 2719 3006 2719 3438 \nQ 2719 3909 2473 4175 \nQ 2228 4441 1797 4441 \nQ 1350 4441 1106 4219 \nQ 863 3997 819 3553 \nz\n\" transform=\"scale(0.015625)\"/>\n       </defs>\n       <use xlink:href=\"#DejaVuSerif-2212\"/>\n       <use xlink:href=\"#DejaVuSerif-30\" x=\"83.789062\"/>\n       <use xlink:href=\"#DejaVuSerif-2e\" x=\"147.412109\"/>\n       <use xlink:href=\"#DejaVuSerif-32\" x=\"179.199219\"/>\n       <use xlink:href=\"#DejaVuSerif-35\" x=\"242.822266\"/>\n      </g>\n     </g>\n    </g>\n    <g id=\"xtick_5\">\n     <g id=\"line2d_5\">\n      <g>\n       <use xlink:href=\"#m77759b3265\" x=\"238.251563\" y=\"296.004687\" style=\"stroke: #000000; stroke-width: 0.8\"/>\n      </g>\n     </g>\n     <g id=\"text_5\">\n      <!-- 0.00 -->\n      <g transform=\"translate(227.11875 310.603125) scale(0.1 -0.1)\">\n       <use xlink:href=\"#DejaVuSerif-30\"/>\n       <use xlink:href=\"#DejaVuSerif-2e\" x=\"63.623047\"/>\n       <use xlink:href=\"#DejaVuSerif-30\" x=\"95.410156\"/>\n       <use xlink:href=\"#DejaVuSerif-30\" x=\"159.033203\"/>\n      </g>\n     </g>\n    </g>\n    <g id=\"xtick_6\">\n     <g id=\"line2d_6\">\n      <g>\n       <use xlink:href=\"#m77759b3265\" x=\"285.558026\" y=\"296.004687\" style=\"stroke: #000000; stroke-width: 0.8\"/>\n      </g>\n     </g>\n     <g id=\"text_6\">\n      <!-- 0.25 -->\n      <g transform=\"translate(274.425213 310.603125) scale(0.1 -0.1)\">\n       <use xlink:href=\"#DejaVuSerif-30\"/>\n       <use xlink:href=\"#DejaVuSerif-2e\" x=\"63.623047\"/>\n       <use xlink:href=\"#DejaVuSerif-32\" x=\"95.410156\"/>\n       <use xlink:href=\"#DejaVuSerif-35\" x=\"159.033203\"/>\n      </g>\n     </g>\n    </g>\n    <g id=\"xtick_7\">\n     <g id=\"line2d_7\">\n      <g>\n       <use xlink:href=\"#m77759b3265\" x=\"332.864489\" y=\"296.004687\" style=\"stroke: #000000; stroke-width: 0.8\"/>\n      </g>\n     </g>\n     <g id=\"text_7\">\n      <!-- 0.50 -->\n      <g transform=\"translate(321.731676 310.603125) scale(0.1 -0.1)\">\n       <use xlink:href=\"#DejaVuSerif-30\"/>\n       <use xlink:href=\"#DejaVuSerif-2e\" x=\"63.623047\"/>\n       <use xlink:href=\"#DejaVuSerif-35\" x=\"95.410156\"/>\n       <use xlink:href=\"#DejaVuSerif-30\" x=\"159.033203\"/>\n      </g>\n     </g>\n    </g>\n    <g id=\"xtick_8\">\n     <g id=\"line2d_8\">\n      <g>\n       <use xlink:href=\"#m77759b3265\" x=\"380.170952\" y=\"296.004687\" style=\"stroke: #000000; stroke-width: 0.8\"/>\n      </g>\n     </g>\n     <g id=\"text_8\">\n      <!-- 0.75 -->\n      <g transform=\"translate(369.038139 310.603125) scale(0.1 -0.1)\">\n       <use xlink:href=\"#DejaVuSerif-30\"/>\n       <use xlink:href=\"#DejaVuSerif-2e\" x=\"63.623047\"/>\n       <use xlink:href=\"#DejaVuSerif-37\" x=\"95.410156\"/>\n       <use xlink:href=\"#DejaVuSerif-35\" x=\"159.033203\"/>\n      </g>\n     </g>\n    </g>\n    <g id=\"xtick_9\">\n     <g id=\"line2d_9\">\n      <g>\n       <use xlink:href=\"#m77759b3265\" x=\"427.477415\" y=\"296.004687\" style=\"stroke: #000000; stroke-width: 0.8\"/>\n      </g>\n     </g>\n     <g id=\"text_9\">\n      <!-- 1.00 -->\n      <g transform=\"translate(416.344602 310.603125) scale(0.1 -0.1)\">\n       <use xlink:href=\"#DejaVuSerif-31\"/>\n       <use xlink:href=\"#DejaVuSerif-2e\" x=\"63.623047\"/>\n       <use xlink:href=\"#DejaVuSerif-30\" x=\"95.410156\"/>\n       <use xlink:href=\"#DejaVuSerif-30\" x=\"159.033203\"/>\n      </g>\n     </g>\n    </g>\n    <g id=\"text_10\">\n     <!-- x -->\n     <g transform=\"translate(234.022266 328.080469) scale(0.15 -0.15)\">\n      <defs>\n       <path id=\"DejaVuSerif-78\" d=\"M 1863 2028 \nL 2559 2988 \nL 2113 2988 \nL 2113 3322 \nL 3391 3322 \nL 3391 2988 \nL 2950 2988 \nL 2059 1759 \nL 3097 331 \nL 3531 331 \nL 3531 0 \nL 1997 0 \nL 1997 331 \nL 2419 331 \nL 1697 1325 \nL 972 331 \nL 1403 331 \nL 1403 0 \nL 141 0 \nL 141 331 \nL 581 331 \nL 1497 1594 \nL 488 2988 \nL 78 2988 \nL 78 3322 \nL 1563 3322 \nL 1563 2988 \nL 1166 2988 \nL 1863 2028 \nz\n\" transform=\"scale(0.015625)\"/>\n      </defs>\n      <use xlink:href=\"#DejaVuSerif-78\"/>\n     </g>\n    </g>\n   </g>\n   <g id=\"matplotlib.axis_2\">\n    <g id=\"ytick_1\">\n     <g id=\"line2d_10\">\n      <defs>\n       <path id=\"mb07134bb44\" d=\"M 0 0 \nL -3.5 0 \n\" style=\"stroke: #000000; stroke-width: 0.8\"/>\n      </defs>\n      <g>\n       <use xlink:href=\"#mb07134bb44\" x=\"30.103125\" y=\"282.877202\" style=\"stroke: #000000; stroke-width: 0.8\"/>\n      </g>\n     </g>\n     <g id=\"text_11\">\n      <!-- 0.0 -->\n      <g transform=\"translate(7.2 286.67642) scale(0.1 -0.1)\">\n       <use xlink:href=\"#DejaVuSerif-30\"/>\n       <use xlink:href=\"#DejaVuSerif-2e\" x=\"63.623047\"/>\n       <use xlink:href=\"#DejaVuSerif-30\" x=\"95.410156\"/>\n      </g>\n     </g>\n    </g>\n    <g id=\"ytick_2\">\n     <g id=\"line2d_11\">\n      <g>\n       <use xlink:href=\"#mb07134bb44\" x=\"30.103125\" y=\"230.367259\" style=\"stroke: #000000; stroke-width: 0.8\"/>\n      </g>\n     </g>\n     <g id=\"text_12\">\n      <!-- 0.2 -->\n      <g transform=\"translate(7.2 234.166477) scale(0.1 -0.1)\">\n       <use xlink:href=\"#DejaVuSerif-30\"/>\n       <use xlink:href=\"#DejaVuSerif-2e\" x=\"63.623047\"/>\n       <use xlink:href=\"#DejaVuSerif-32\" x=\"95.410156\"/>\n      </g>\n     </g>\n    </g>\n    <g id=\"ytick_3\">\n     <g id=\"line2d_12\">\n      <g>\n       <use xlink:href=\"#mb07134bb44\" x=\"30.103125\" y=\"177.857315\" style=\"stroke: #000000; stroke-width: 0.8\"/>\n      </g>\n     </g>\n     <g id=\"text_13\">\n      <!-- 0.4 -->\n      <g transform=\"translate(7.2 181.656534) scale(0.1 -0.1)\">\n       <defs>\n        <path id=\"DejaVuSerif-34\" d=\"M 2234 1581 \nL 2234 4063 \nL 641 1581 \nL 2234 1581 \nz\nM 3609 0 \nL 1484 0 \nL 1484 331 \nL 2234 331 \nL 2234 1247 \nL 197 1247 \nL 197 1588 \nL 2241 4750 \nL 2859 4750 \nL 2859 1581 \nL 3750 1581 \nL 3750 1247 \nL 2859 1247 \nL 2859 331 \nL 3609 331 \nL 3609 0 \nz\n\" transform=\"scale(0.015625)\"/>\n       </defs>\n       <use xlink:href=\"#DejaVuSerif-30\"/>\n       <use xlink:href=\"#DejaVuSerif-2e\" x=\"63.623047\"/>\n       <use xlink:href=\"#DejaVuSerif-34\" x=\"95.410156\"/>\n      </g>\n     </g>\n    </g>\n    <g id=\"ytick_4\">\n     <g id=\"line2d_13\">\n      <g>\n       <use xlink:href=\"#mb07134bb44\" x=\"30.103125\" y=\"125.347372\" style=\"stroke: #000000; stroke-width: 0.8\"/>\n      </g>\n     </g>\n     <g id=\"text_14\">\n      <!-- 0.6 -->\n      <g transform=\"translate(7.2 129.146591) scale(0.1 -0.1)\">\n       <defs>\n        <path id=\"DejaVuSerif-36\" d=\"M 2094 219 \nQ 2534 219 2771 542 \nQ 3009 866 3009 1472 \nQ 3009 2078 2771 2401 \nQ 2534 2725 2094 2725 \nQ 1647 2725 1412 2412 \nQ 1178 2100 1178 1509 \nQ 1178 888 1415 553 \nQ 1653 219 2094 219 \nz\nM 1075 2569 \nQ 1288 2803 1556 2918 \nQ 1825 3034 2163 3034 \nQ 2859 3034 3264 2615 \nQ 3669 2197 3669 1472 \nQ 3669 763 3233 336 \nQ 2797 -91 2069 -91 \nQ 1278 -91 853 498 \nQ 428 1088 428 2181 \nQ 428 3406 931 4078 \nQ 1434 4750 2350 4750 \nQ 2597 4750 2869 4703 \nQ 3141 4656 3425 4563 \nL 3425 3794 \nL 3072 3794 \nQ 3034 4109 2831 4275 \nQ 2628 4441 2284 4441 \nQ 1678 4441 1381 3981 \nQ 1084 3522 1075 2569 \nz\n\" transform=\"scale(0.015625)\"/>\n       </defs>\n       <use xlink:href=\"#DejaVuSerif-30\"/>\n       <use xlink:href=\"#DejaVuSerif-2e\" x=\"63.623047\"/>\n       <use xlink:href=\"#DejaVuSerif-36\" x=\"95.410156\"/>\n      </g>\n     </g>\n    </g>\n    <g id=\"ytick_5\">\n     <g id=\"line2d_14\">\n      <g>\n       <use xlink:href=\"#mb07134bb44\" x=\"30.103125\" y=\"72.837429\" style=\"stroke: #000000; stroke-width: 0.8\"/>\n      </g>\n     </g>\n     <g id=\"text_15\">\n      <!-- 0.8 -->\n      <g transform=\"translate(7.2 76.636648) scale(0.1 -0.1)\">\n       <defs>\n        <path id=\"DejaVuSerif-38\" d=\"M 2981 1275 \nQ 2981 1775 2732 2051 \nQ 2484 2328 2034 2328 \nQ 1584 2328 1336 2051 \nQ 1088 1775 1088 1275 \nQ 1088 772 1336 495 \nQ 1584 219 2034 219 \nQ 2484 219 2732 495 \nQ 2981 772 2981 1275 \nz\nM 2853 3541 \nQ 2853 3966 2637 4203 \nQ 2422 4441 2034 4441 \nQ 1650 4441 1433 4203 \nQ 1216 3966 1216 3541 \nQ 1216 3113 1433 2875 \nQ 1650 2638 2034 2638 \nQ 2422 2638 2637 2875 \nQ 2853 3113 2853 3541 \nz\nM 2516 2484 \nQ 3047 2413 3344 2092 \nQ 3641 1772 3641 1275 \nQ 3641 619 3225 264 \nQ 2809 -91 2034 -91 \nQ 1263 -91 845 264 \nQ 428 619 428 1275 \nQ 428 1772 725 2092 \nQ 1022 2413 1556 2484 \nQ 1084 2569 832 2842 \nQ 581 3116 581 3541 \nQ 581 4103 968 4426 \nQ 1356 4750 2034 4750 \nQ 2713 4750 3100 4426 \nQ 3488 4103 3488 3541 \nQ 3488 3116 3236 2842 \nQ 2984 2569 2516 2484 \nz\n\" transform=\"scale(0.015625)\"/>\n       </defs>\n       <use xlink:href=\"#DejaVuSerif-30\"/>\n       <use xlink:href=\"#DejaVuSerif-2e\" x=\"63.623047\"/>\n       <use xlink:href=\"#DejaVuSerif-38\" x=\"95.410156\"/>\n      </g>\n     </g>\n    </g>\n    <g id=\"ytick_6\">\n     <g id=\"line2d_15\">\n      <g>\n       <use xlink:href=\"#mb07134bb44\" x=\"30.103125\" y=\"20.327486\" style=\"stroke: #000000; stroke-width: 0.8\"/>\n      </g>\n     </g>\n     <g id=\"text_16\">\n      <!-- 1.0 -->\n      <g transform=\"translate(7.2 24.126705) scale(0.1 -0.1)\">\n       <use xlink:href=\"#DejaVuSerif-31\"/>\n       <use xlink:href=\"#DejaVuSerif-2e\" x=\"63.623047\"/>\n       <use xlink:href=\"#DejaVuSerif-30\" x=\"95.410156\"/>\n      </g>\n     </g>\n    </g>\n   </g>\n   <g id=\"line2d_16\">\n    <path d=\"M 49.02571 282.877202 \nL 52.810227 282.877202 \nL 56.594744 282.877202 \nL 60.379261 282.877202 \nL 64.163778 282.877202 \nL 67.948295 282.877202 \nL 71.732812 282.877202 \nL 75.51733 282.877202 \nL 79.301847 282.877202 \nL 83.086364 282.877202 \nL 86.870881 282.877202 \nL 90.655398 282.877202 \nL 94.439915 282.877202 \nL 98.224432 282.877202 \nL 102.008949 282.877202 \nL 105.793466 282.877202 \nL 109.577983 282.877202 \nL 113.3625 282.877202 \nL 117.147017 282.877202 \nL 120.931534 282.877202 \nL 124.716051 282.877202 \nL 128.500568 282.877202 \nL 132.285085 282.877202 \nL 136.069602 282.877202 \nL 139.854119 282.877202 \nL 143.638636 282.877202 \nL 147.423153 282.877202 \nL 151.20767 282.877202 \nL 154.992188 282.877202 \nL 158.776705 282.877202 \nL 162.561222 282.877202 \nL 166.345739 282.877202 \nL 170.130256 282.877202 \nL 173.914773 282.877202 \nL 177.69929 282.877202 \nL 181.483807 282.877202 \nL 185.268324 282.877202 \nL 189.052841 282.877202 \nL 192.837358 282.877202 \nL 196.621875 282.877202 \nL 200.406392 282.877202 \nL 204.190909 282.877202 \nL 207.975426 282.877202 \nL 211.759943 282.877202 \nL 215.54446 282.877202 \nL 219.328977 282.877202 \nL 223.113494 282.877202 \nL 226.898011 282.877202 \nL 230.682528 282.877202 \nL 234.467045 282.877202 \nL 238.251563 282.877202 \nL 242.03608 277.626207 \nL 245.820597 272.375213 \nL 249.605114 267.124219 \nL 253.389631 261.873224 \nL 257.174148 256.62223 \nL 260.958665 251.371236 \nL 264.743182 246.120241 \nL 268.527699 240.869247 \nL 272.312216 235.618253 \nL 276.096733 230.367259 \nL 279.88125 225.116264 \nL 283.665767 219.86527 \nL 287.450284 214.614276 \nL 291.234801 209.363281 \nL 295.019318 204.112287 \nL 298.803835 198.861293 \nL 302.588352 193.610298 \nL 306.372869 188.359304 \nL 310.157386 183.10831 \nL 313.941903 177.857315 \nL 317.72642 172.606321 \nL 321.510938 167.355327 \nL 325.295455 162.104332 \nL 329.079972 156.853338 \nL 332.864489 151.602344 \nL 336.649006 146.351349 \nL 340.433523 141.100355 \nL 344.21804 135.849361 \nL 348.002557 130.598366 \nL 351.787074 125.347372 \nL 355.571591 120.096378 \nL 359.356108 114.845384 \nL 363.140625 109.594389 \nL 366.925142 104.343395 \nL 370.709659 99.092401 \nL 374.494176 93.841406 \nL 378.278693 88.590412 \nL 382.06321 83.339418 \nL 385.847727 78.088423 \nL 389.632244 72.837429 \nL 393.416761 67.586435 \nL 397.201278 62.33544 \nL 400.985795 57.084446 \nL 404.770313 51.833452 \nL 408.55483 46.582457 \nL 412.339347 41.331463 \nL 416.123864 36.080469 \nL 419.908381 30.829474 \nL 423.692898 25.57848 \nL 427.477415 20.327486 \n\" clip-path=\"url(#pb1c8221801)\" style=\"fill: none; stroke: #1f77b4; stroke-width: 1.5; stroke-linecap: square\"/>\n   </g>\n   <g id=\"line2d_17\">\n    <path d=\"M 49.02571 282.877202 \nL 52.810227 282.877202 \nL 56.594744 282.877202 \nL 60.379261 282.877202 \nL 64.163778 282.877202 \nL 67.948295 282.877202 \nL 71.732812 282.877202 \nL 75.51733 282.877202 \nL 79.301847 282.877202 \nL 83.086364 282.877202 \nL 86.870881 282.877202 \nL 90.655398 282.877202 \nL 94.439915 282.877202 \nL 98.224432 282.877202 \nL 102.008949 282.877202 \nL 105.793466 282.877202 \nL 109.577983 282.877202 \nL 113.3625 282.877202 \nL 117.147017 282.877202 \nL 120.931534 282.877202 \nL 124.716051 282.877202 \nL 128.500568 282.877202 \nL 132.285085 282.877202 \nL 136.069602 282.877202 \nL 139.854119 282.877202 \nL 143.638636 282.877202 \nL 147.423153 282.877202 \nL 151.20767 282.877202 \nL 154.992188 282.877202 \nL 158.776705 282.877202 \nL 162.561222 282.877202 \nL 166.345739 282.877202 \nL 170.130256 282.877202 \nL 173.914773 282.877202 \nL 177.69929 282.877202 \nL 181.483807 282.877202 \nL 185.268324 282.877202 \nL 189.052841 282.877202 \nL 192.837358 282.877202 \nL 196.621875 282.877202 \nL 200.406392 282.877202 \nL 204.190909 282.877202 \nL 207.975426 282.877202 \nL 211.759943 282.877202 \nL 215.54446 282.877202 \nL 219.328977 282.877202 \nL 223.113494 282.877202 \nL 226.898011 282.877202 \nL 230.682528 282.877202 \nL 234.467045 282.877202 \nL 238.251563 282.877202 \nL 242.03608 20.327486 \nL 245.820597 20.327486 \nL 249.605114 20.327486 \nL 253.389631 20.327486 \nL 257.174148 20.327486 \nL 260.958665 20.327486 \nL 264.743182 20.327486 \nL 268.527699 20.327486 \nL 272.312216 20.327486 \nL 276.096733 20.327486 \nL 279.88125 20.327486 \nL 283.665767 20.327486 \nL 287.450284 20.327486 \nL 291.234801 20.327486 \nL 295.019318 20.327486 \nL 298.803835 20.327486 \nL 302.588352 20.327486 \nL 306.372869 20.327486 \nL 310.157386 20.327486 \nL 313.941903 20.327486 \nL 317.72642 20.327486 \nL 321.510938 20.327486 \nL 325.295455 20.327486 \nL 329.079972 20.327486 \nL 332.864489 20.327486 \nL 336.649006 20.327486 \nL 340.433523 20.327486 \nL 344.21804 20.327486 \nL 348.002557 20.327486 \nL 351.787074 20.327486 \nL 355.571591 20.327486 \nL 359.356108 20.327486 \nL 363.140625 20.327486 \nL 366.925142 20.327486 \nL 370.709659 20.327486 \nL 374.494176 20.327486 \nL 378.278693 20.327486 \nL 382.06321 20.327486 \nL 385.847727 20.327486 \nL 389.632244 20.327486 \nL 393.416761 20.327486 \nL 397.201278 20.327486 \nL 400.985795 20.327486 \nL 404.770313 20.327486 \nL 408.55483 20.327486 \nL 412.339347 20.327486 \nL 416.123864 20.327486 \nL 419.908381 20.327486 \nL 423.692898 20.327486 \nL 427.477415 20.327486 \n\" clip-path=\"url(#pb1c8221801)\" style=\"fill: none; stroke: #ff7f0e; stroke-width: 1.5; stroke-linecap: square\"/>\n   </g>\n   <g id=\"line2d_18\">\n    <path d=\"M 49.02571 282.877202 \nL 52.810227 282.877202 \nL 56.594744 282.877202 \nL 60.379261 282.877202 \nL 64.163778 282.877202 \nL 67.948295 282.877202 \nL 71.732812 282.877202 \nL 75.51733 282.877202 \nL 79.301847 282.877202 \nL 83.086364 282.877202 \nL 86.870881 282.877202 \nL 90.655398 282.877202 \nL 94.439915 282.877202 \nL 98.224432 282.877202 \nL 102.008949 282.877202 \nL 105.793466 282.877202 \nL 109.577983 282.877202 \nL 113.3625 282.877202 \nL 117.147017 282.877202 \nL 120.931534 282.877202 \nL 124.716051 282.877202 \nL 128.500568 282.877202 \nL 132.285085 282.877202 \nL 136.069602 282.877202 \nL 139.854119 282.877202 \nL 143.638636 282.877202 \nL 147.423153 282.877202 \nL 151.20767 282.877202 \nL 154.992188 282.877202 \nL 158.776705 282.877202 \nL 162.561222 282.877202 \nL 166.345739 282.877202 \nL 170.130256 282.877202 \nL 173.914773 282.877202 \nL 177.69929 282.877202 \nL 181.483807 282.877202 \nL 185.268324 282.877202 \nL 189.052841 282.877202 \nL 192.837358 282.877202 \nL 196.621875 282.877202 \nL 200.406392 282.877202 \nL 204.190909 282.877202 \nL 207.975426 282.877202 \nL 211.759943 282.877202 \nL 215.54446 282.877202 \nL 219.328977 282.877202 \nL 223.113494 282.877202 \nL 226.898011 282.877202 \nL 230.682528 282.877202 \nL 234.467045 282.877202 \nL 238.251563 282.877202 \nL 242.03608 282.877202 \nL 245.820597 282.877202 \nL 249.605114 282.877202 \nL 253.389631 282.877202 \nL 257.174148 282.877202 \nL 260.958665 282.877202 \nL 264.743182 282.877202 \nL 268.527699 282.877202 \nL 272.312216 282.877202 \nL 276.096733 282.877202 \nL 279.88125 282.877202 \nL 283.665767 282.877202 \nL 287.450284 282.877202 \nL 291.234801 282.877202 \nL 295.019318 282.877202 \nL 298.803835 282.877202 \nL 302.588352 282.877202 \nL 306.372869 282.877202 \nL 310.157386 282.877202 \nL 313.941903 282.877202 \nL 317.72642 282.877202 \nL 321.510938 282.877202 \nL 325.295455 282.877202 \nL 329.079972 282.877202 \nL 332.864489 282.877202 \nL 336.649006 282.877202 \nL 340.433523 282.877202 \nL 344.21804 282.877202 \nL 348.002557 282.877202 \nL 351.787074 282.877202 \nL 355.571591 282.877202 \nL 359.356108 282.877202 \nL 363.140625 282.877202 \nL 366.925142 282.877202 \nL 370.709659 282.877202 \nL 374.494176 282.877202 \nL 378.278693 282.877202 \nL 382.06321 282.877202 \nL 385.847727 282.877202 \nL 389.632244 282.877202 \nL 393.416761 282.877202 \nL 397.201278 282.877202 \nL 400.985795 282.877202 \nL 404.770313 282.877202 \nL 408.55483 282.877202 \nL 412.339347 282.877202 \nL 416.123864 282.877202 \nL 419.908381 282.877202 \nL 423.692898 282.877202 \nL 427.477415 282.877202 \n\" clip-path=\"url(#pb1c8221801)\" style=\"fill: none; stroke: #2ca02c; stroke-width: 1.5; stroke-linecap: square\"/>\n   </g>\n   <g id=\"patch_3\">\n    <path d=\"M 30.103125 296.004687 \nL 30.103125 7.2 \n\" style=\"fill: none; stroke: #000000; stroke-width: 0.8; stroke-linejoin: miter; stroke-linecap: square\"/>\n   </g>\n   <g id=\"patch_4\">\n    <path d=\"M 446.4 296.004687 \nL 446.4 7.2 \n\" style=\"fill: none; stroke: #000000; stroke-width: 0.8; stroke-linejoin: miter; stroke-linecap: square\"/>\n   </g>\n   <g id=\"patch_5\">\n    <path d=\"M 30.103125 296.004687 \nL 446.4 296.004687 \n\" style=\"fill: none; stroke: #000000; stroke-width: 0.8; stroke-linejoin: miter; stroke-linecap: square\"/>\n   </g>\n   <g id=\"patch_6\">\n    <path d=\"M 30.103125 7.2 \nL 446.4 7.2 \n\" style=\"fill: none; stroke: #000000; stroke-width: 0.8; stroke-linejoin: miter; stroke-linecap: square\"/>\n   </g>\n   <g id=\"legend_1\">\n    <g id=\"patch_7\">\n     <path d=\"M 40.603125 85.891406 \nL 148.882031 85.891406 \nQ 151.882031 85.891406 151.882031 82.891406 \nL 151.882031 17.7 \nQ 151.882031 14.7 148.882031 14.7 \nL 40.603125 14.7 \nQ 37.603125 14.7 37.603125 17.7 \nL 37.603125 82.891406 \nQ 37.603125 85.891406 40.603125 85.891406 \nz\n\" style=\"fill: #ffffff; opacity: 0.8; stroke: #cccccc; stroke-linejoin: miter\"/>\n    </g>\n    <g id=\"line2d_19\">\n     <path d=\"M 43.603125 26.847656 \nL 58.603125 26.847656 \nL 73.603125 26.847656 \n\" style=\"fill: none; stroke: #1f77b4; stroke-width: 1.5; stroke-linecap: square\"/>\n    </g>\n    <g id=\"text_17\">\n     <!-- y -->\n     <g transform=\"translate(85.603125 32.097656) scale(0.15 -0.15)\">\n      <defs>\n       <path id=\"DejaVuSerif-79\" d=\"M 1381 -609 \nL 1600 -56 \nL 359 2988 \nL -19 2988 \nL -19 3322 \nL 1509 3322 \nL 1509 2988 \nL 978 2988 \nL 1913 703 \nL 2847 2988 \nL 2350 2988 \nL 2350 3322 \nL 3597 3322 \nL 3597 2988 \nL 3225 2988 \nL 1703 -750 \nQ 1547 -1138 1356 -1280 \nQ 1166 -1422 819 -1422 \nQ 672 -1422 517 -1397 \nQ 363 -1372 206 -1325 \nL 206 -691 \nL 500 -691 \nQ 519 -903 608 -995 \nQ 697 -1088 884 -1088 \nQ 1056 -1088 1161 -992 \nQ 1266 -897 1381 -609 \nz\n\" transform=\"scale(0.015625)\"/>\n      </defs>\n      <use xlink:href=\"#DejaVuSerif-79\"/>\n     </g>\n    </g>\n    <g id=\"line2d_20\">\n     <path d=\"M 43.603125 49.078125 \nL 58.603125 49.078125 \nL 73.603125 49.078125 \n\" style=\"fill: none; stroke: #ff7f0e; stroke-width: 1.5; stroke-linecap: square\"/>\n    </g>\n    <g id=\"text_18\">\n     <!-- dy/dx -->\n     <g transform=\"translate(85.603125 54.328125) scale(0.15 -0.15)\">\n      <defs>\n       <path id=\"DejaVuSerif-64\" d=\"M 3359 331 \nL 3909 331 \nL 3909 0 \nL 2784 0 \nL 2784 519 \nQ 2616 206 2355 57 \nQ 2094 -91 1709 -91 \nQ 1097 -91 708 395 \nQ 319 881 319 1663 \nQ 319 2444 706 2928 \nQ 1094 3413 1709 3413 \nQ 2094 3413 2355 3264 \nQ 2616 3116 2784 2803 \nL 2784 4531 \nL 2241 4531 \nL 2241 4863 \nL 3359 4863 \nL 3359 331 \nz\nM 2784 1497 \nL 2784 1825 \nQ 2784 2422 2554 2737 \nQ 2325 3053 1888 3053 \nQ 1444 3053 1217 2703 \nQ 991 2353 991 1663 \nQ 991 975 1217 622 \nQ 1444 269 1888 269 \nQ 2325 269 2554 583 \nQ 2784 897 2784 1497 \nz\n\" transform=\"scale(0.015625)\"/>\n       <path id=\"DejaVuSerif-2f\" d=\"M 1656 4666 \nL 2156 4666 \nL 500 -594 \nL 0 -594 \nL 1656 4666 \nz\n\" transform=\"scale(0.015625)\"/>\n      </defs>\n      <use xlink:href=\"#DejaVuSerif-64\"/>\n      <use xlink:href=\"#DejaVuSerif-79\" x=\"64.013672\"/>\n      <use xlink:href=\"#DejaVuSerif-2f\" x=\"120.507812\"/>\n      <use xlink:href=\"#DejaVuSerif-64\" x=\"154.199219\"/>\n      <use xlink:href=\"#DejaVuSerif-78\" x=\"218.212891\"/>\n     </g>\n    </g>\n    <g id=\"line2d_21\">\n     <path d=\"M 43.603125 71.308594 \nL 58.603125 71.308594 \nL 73.603125 71.308594 \n\" style=\"fill: none; stroke: #2ca02c; stroke-width: 1.5; stroke-linecap: square\"/>\n    </g>\n    <g id=\"text_19\">\n     <!-- d2y/dx2 -->\n     <g transform=\"translate(85.603125 76.558594) scale(0.15 -0.15)\">\n      <use xlink:href=\"#DejaVuSerif-64\"/>\n      <use xlink:href=\"#DejaVuSerif-32\" x=\"64.013672\"/>\n      <use xlink:href=\"#DejaVuSerif-79\" x=\"127.636719\"/>\n      <use xlink:href=\"#DejaVuSerif-2f\" x=\"184.130859\"/>\n      <use xlink:href=\"#DejaVuSerif-64\" x=\"217.822266\"/>\n      <use xlink:href=\"#DejaVuSerif-78\" x=\"281.835938\"/>\n      <use xlink:href=\"#DejaVuSerif-32\" x=\"338.232422\"/>\n     </g>\n    </g>\n   </g>\n  </g>\n </g>\n <defs>\n  <clipPath id=\"pb1c8221801\">\n   <rect x=\"30.103125\" y=\"7.2\" width=\"416.296875\" height=\"288.804688\"/>\n  </clipPath>\n </defs>\n</svg>\n",
            "text/plain": [
              "<Figure size 640x480 with 1 Axes>"
            ]
          },
          "metadata": {},
          "output_type": "display_data"
        }
      ],
      "source": [
        "x = tf.linspace(-1,1, 101)\n",
        "\n",
        "with tf.GradientTape() as tape1:\n",
        "    tape1.watch(x)\n",
        "    with tf.GradientTape() as tape2:\n",
        "        tape2.watch(x)\n",
        "        y = tf.nn.relu(x)\n",
        "    dy_dx = tape2.gradient(y,x)\n",
        "d2y_dx2 = tape1.gradient(dy_dx,x)    \n",
        "\n",
        "plt.plot(x, y, label='y')\n",
        "plt.plot(x, dy_dx, label='dy/dx')\n",
        "plt.plot(x, d2y_dx2, label='d2y/dx2')\n",
        "plt.legend(loc='upper left',fontsize=15);\n",
        "plt.xlabel('x',fontsize=15);"
      ]
    }
  ],
  "metadata": {
    "colab": {
      "collapsed_sections": [],
      "name": "Gradients_in_TF2.ipynb",
      "provenance": []
    },
    "kernelspec": {
      "display_name": "Python 3.9.13 ('base')",
      "language": "python",
      "name": "python3"
    },
    "language_info": {
      "codemirror_mode": {
        "name": "ipython",
        "version": 3
      },
      "file_extension": ".py",
      "mimetype": "text/x-python",
      "name": "python",
      "nbconvert_exporter": "python",
      "pygments_lexer": "ipython3",
      "version": "3.10.6"
    },
    "vscode": {
      "interpreter": {
        "hash": "c6e4e9f98eb68ad3b7c296f83d20e6de614cb42e90992a65aa266555a3137d0d"
      }
    }
  },
  "nbformat": 4,
  "nbformat_minor": 0
}
